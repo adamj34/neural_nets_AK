{
 "cells": [
  {
   "cell_type": "code",
   "execution_count": 1,
   "metadata": {},
   "outputs": [
    {
     "name": "stdout",
     "output_type": "stream",
     "text": [
      "6.336362190988558\n"
     ]
    }
   ],
   "source": [
    "# here is a mathematical expression that takes 3 inputs and produces one output\n",
    "from math import sin, cos\n",
    "\n",
    "def f(a, b, c):\n",
    "  return -a**3 + sin(3*b) - 1.0/c + b**2.5 - a**0.5\n",
    "\n",
    "print(f(2, 3, 4))"
   ]
  },
  {
   "cell_type": "code",
   "execution_count": 3,
   "metadata": {},
   "outputs": [
    {
     "name": "stdout",
     "output_type": "stream",
     "text": [
      "OK for dim 0: expected -12.353553390593273, yours returns -12.353553390593273\n",
      "OK for dim 1: expected 10.25699027111255, yours returns 10.25699027111255\n",
      "OK for dim 2: expected 0.0625, yours returns 0.0625\n"
     ]
    }
   ],
   "source": [
    "# write the function df that returns the analytical gradient of f\n",
    "# i.e. use your skills from calculus to take the derivative, then implement the formula\n",
    "# if you do not calculus then feel free to ask wolframalpha, e.g.:\n",
    "# https://www.wolframalpha.com/input?i=d%2Fda%28sin%283*a%29%29%29\n",
    "\n",
    "def gradf(a, b, c):\n",
    "  da = -3*a**2 - 0.5*a**-0.5\n",
    "  db = cos(3*b)*3 + 2.5*b**1.5\n",
    "  dc = 1/c**2\n",
    "  return [da,db,dc] # todo, return [df/da, df/db, df/dc]\n",
    "\n",
    "# expected answer is the list of \n",
    "ans = [-12.353553390593273, 10.25699027111255, 0.0625]\n",
    "yours = gradf(2, 3, 4)\n",
    "for dim in range(3):\n",
    "  ok = 'OK' if abs(yours[dim] - ans[dim]) < 1e-5 else 'WRONG!'\n",
    "  print(f\"{ok} for dim {dim}: expected {ans[dim]}, yours returns {yours[dim]}\")\n"
   ]
  },
  {
   "cell_type": "code",
   "execution_count": 6,
   "metadata": {},
   "outputs": [
    {
     "name": "stdout",
     "output_type": "stream",
     "text": [
      "OK for dim 0: expected -12.353553390593273, yours returns -12.353559348809995\n",
      "OK for dim 1: expected 10.25699027111255, yours returns 10.256991666679482\n",
      "OK for dim 2: expected 0.0625, yours returns 0.062499984743169534\n"
     ]
    }
   ],
   "source": [
    "# now estimate the gradient numerically without any calculus, using\n",
    "# the approximation we used in the video.\n",
    "# you should not call the function df from the last cell\n",
    "\n",
    "# -----------\n",
    "a_slope = (f(2+0.000001,3,4) - f(2,3,4)) / 0.000001\n",
    "b_slope = (f(2,3+0.000001,4) - f(2,3,4)) / 0.000001\n",
    "c_slope = (f(2,3,4+0.000001) - f(2,3,4)) / 0.000001\n",
    "numerical_grad = [a_slope, b_slope, c_slope] # TODO\n",
    "# -----------\n",
    "\n",
    "for dim in range(3):\n",
    "  ok = 'OK' if abs(numerical_grad[dim] - ans[dim]) < 1e-5 else 'WRONG!'\n",
    "  print(f\"{ok} for dim {dim}: expected {ans[dim]}, yours returns {numerical_grad[dim]}\")\n"
   ]
  },
  {
   "cell_type": "code",
   "execution_count": 11,
   "metadata": {},
   "outputs": [
    {
     "name": "stdout",
     "output_type": "stream",
     "text": [
      "OK for dim 0: expected -12.353553390593273, yours returns -12.353553391353245\n",
      "OK for dim 1: expected 10.25699027111255, yours returns 10.25699027401572\n",
      "OK for dim 2: expected 0.0625, yours returns 0.06250000028629188\n"
     ]
    }
   ],
   "source": [
    "# there is an alternative formula that provides a much better numerical \n",
    "# approximation to the derivative of a function.\n",
    "# learn about it here: https://en.wikipedia.org/wiki/Symmetric_derivative\n",
    "# implement it. confirm that for the same step size h this version gives a\n",
    "# better approximation.\n",
    "\n",
    "# -----------\n",
    "a_s = (f(2+0.000001, 3, 4) - f(2-0.000001, 3, 4)) / (2*0.000001)\n",
    "b_s = (f(2, 3+0.000001, 4) - f(2, 3-0.000001, 4)) / (2*0.000001)\n",
    "c_s = (f(2, 3, 4+0.000001) - f(2, 3, 4-0.000001)) / (2*0.000001)\n",
    "numerical_grad2 = [a_s, b_s, c_s] # TODO\n",
    "# -----------\n",
    "\n",
    "for dim in range(3):\n",
    "  ok = 'OK' if abs(numerical_grad2[dim] - ans[dim]) < 1e-5 else 'WRONG!'\n",
    "  print(f\"{ok} for dim {dim}: expected {ans[dim]}, yours returns {numerical_grad2[dim]}\")\n"
   ]
  },
  {
   "cell_type": "code",
   "execution_count": 28,
   "metadata": {},
   "outputs": [],
   "source": [
    "# Value class starter code, with many functions taken out\n",
    "from math import exp, log\n",
    "\n",
    "class Value:\n",
    "  \n",
    "  def __init__(self, data, _children=(), _op='', label=''):\n",
    "    self.data = data\n",
    "    self.grad = 0.0\n",
    "    self._backward = lambda: None\n",
    "    self._prev = set(_children)\n",
    "    self._op = _op\n",
    "    self.label = label\n",
    "\n",
    "  def __repr__(self):\n",
    "    return f\"Value(data={self.data})\"\n",
    "  \n",
    "  def __add__(self, other): # exactly as in the video\n",
    "    other = other if isinstance(other, Value) else Value(other)\n",
    "    out = Value(self.data + other.data, (self, other), '+')\n",
    "    \n",
    "    def _backward():\n",
    "      self.grad += 1.0 * out.grad\n",
    "      other.grad += 1.0 * out.grad\n",
    "    out._backward = _backward\n",
    "    \n",
    "    return out\n",
    "\n",
    "  def __radd__(self, other):\n",
    "    return self + other\n",
    "  \n",
    "  def __mul__(self, other):\n",
    "    other = other if isinstance(other, Value) else Value(other)\n",
    "    out = Value(self.data * other.data, (self, other), '*')\n",
    "\n",
    "    def _backward():\n",
    "      self.grad += other.data * out.grad\n",
    "      other.grad += self.data * out.grad\n",
    "    out._backward = _backward()\n",
    "\n",
    "    return out\n",
    "\n",
    "  def __rmul__(self, other):\n",
    "    return self * other\n",
    "\n",
    "  def _truediv__(self, ohter):\n",
    "    \n",
    "\n",
    "  def exp(self):\n",
    "      x = self.data\n",
    "      out = Value(exp(x), (self, ), 'exp')\n",
    "\n",
    "      def _backward():\n",
    "          self.grad += out.data * out.grad\n",
    "      out._backward = _backward\n",
    "\n",
    "      return out\n",
    "\n",
    "  def backward(self): # exactly as in video  \n",
    "    topo = []\n",
    "    visited = set()\n",
    "    def build_topo(v):\n",
    "      if v not in visited:\n",
    "        visited.add(v)\n",
    "        for child in v._prev:\n",
    "          build_topo(child)\n",
    "        topo.append(v)\n",
    "    build_topo(self)\n",
    "    \n",
    "    self.grad = 1.0\n",
    "    for node in reversed(topo):\n",
    "      node._backward()\n"
   ]
  },
  {
   "cell_type": "code",
   "execution_count": 29,
   "metadata": {},
   "outputs": [
    {
     "ename": "TypeError",
     "evalue": "unsupported operand type(s) for /: 'Value' and 'Value'",
     "output_type": "error",
     "traceback": [
      "\u001b[0;31m---------------------------------------------------------------------------\u001b[0m",
      "\u001b[0;31mTypeError\u001b[0m                                 Traceback (most recent call last)",
      "Cell \u001b[0;32mIn[29], line 17\u001b[0m\n\u001b[1;32m     15\u001b[0m \u001b[39m# this is the negative log likelihood loss function, pervasive in classification\u001b[39;00m\n\u001b[1;32m     16\u001b[0m logits \u001b[39m=\u001b[39m [Value(\u001b[39m0.0\u001b[39m), Value(\u001b[39m3.0\u001b[39m), Value(\u001b[39m-\u001b[39m\u001b[39m2.0\u001b[39m), Value(\u001b[39m1.0\u001b[39m)]\n\u001b[0;32m---> 17\u001b[0m probs \u001b[39m=\u001b[39m softmax(logits)\n\u001b[1;32m     18\u001b[0m loss \u001b[39m=\u001b[39m \u001b[39m-\u001b[39mprobs[\u001b[39m3\u001b[39m]\u001b[39m.\u001b[39mlog() \u001b[39m# dim 3 acts as the label for this input example\u001b[39;00m\n\u001b[1;32m     19\u001b[0m loss\u001b[39m.\u001b[39mbackward()\n",
      "Cell \u001b[0;32mIn[29], line 12\u001b[0m, in \u001b[0;36msoftmax\u001b[0;34m(logits)\u001b[0m\n\u001b[1;32m     10\u001b[0m counts \u001b[39m=\u001b[39m [logit\u001b[39m.\u001b[39mexp() \u001b[39mfor\u001b[39;00m logit \u001b[39min\u001b[39;00m logits]\n\u001b[1;32m     11\u001b[0m denominator \u001b[39m=\u001b[39m \u001b[39msum\u001b[39m(counts)\n\u001b[0;32m---> 12\u001b[0m out \u001b[39m=\u001b[39m [c \u001b[39m/\u001b[39m denominator \u001b[39mfor\u001b[39;00m c \u001b[39min\u001b[39;00m counts]\n\u001b[1;32m     13\u001b[0m \u001b[39mreturn\u001b[39;00m out\n",
      "Cell \u001b[0;32mIn[29], line 12\u001b[0m, in \u001b[0;36m<listcomp>\u001b[0;34m(.0)\u001b[0m\n\u001b[1;32m     10\u001b[0m counts \u001b[39m=\u001b[39m [logit\u001b[39m.\u001b[39mexp() \u001b[39mfor\u001b[39;00m logit \u001b[39min\u001b[39;00m logits]\n\u001b[1;32m     11\u001b[0m denominator \u001b[39m=\u001b[39m \u001b[39msum\u001b[39m(counts)\n\u001b[0;32m---> 12\u001b[0m out \u001b[39m=\u001b[39m [c \u001b[39m/\u001b[39;49m denominator \u001b[39mfor\u001b[39;00m c \u001b[39min\u001b[39;00m counts]\n\u001b[1;32m     13\u001b[0m \u001b[39mreturn\u001b[39;00m out\n",
      "\u001b[0;31mTypeError\u001b[0m: unsupported operand type(s) for /: 'Value' and 'Value'"
     ]
    }
   ],
   "source": [
    "# without referencing our code/video __too__ much, make this cell work\n",
    "# you'll have to implement (in some cases re-implemented) a number of functions\n",
    "# of the Value object, similar to what we've seen in the video.\n",
    "# instead of the squared error loss this implements the negative log likelihood\n",
    "# loss, which is very often used in classification.\n",
    "\n",
    "# this is the softmax function\n",
    "# https://en.wikipedia.org/wiki/Softmax_function\n",
    "def softmax(logits):\n",
    "  counts = [logit.exp() for logit in logits]\n",
    "  denominator = sum(counts)\n",
    "  out = [c / denominator for c in counts]\n",
    "  return out\n",
    "\n",
    "# this is the negative log likelihood loss function, pervasive in classification\n",
    "logits = [Value(0.0), Value(3.0), Value(-2.0), Value(1.0)]\n",
    "probs = softmax(logits)\n",
    "loss = -probs[3].log() # dim 3 acts as the label for this input example\n",
    "loss.backward()\n",
    "print(loss.data)\n",
    "\n",
    "ans = [0.041772570515350445, 0.8390245074625319, 0.005653302662216329, -0.8864503806400986]\n",
    "for dim in range(4):\n",
    "  ok = 'OK' if abs(logits[dim].grad - ans[dim]) < 1e-5 else 'WRONG!'\n",
    "  print(f\"{ok} for dim {dim}: expected {ans[dim]}, yours returns {logits[dim].grad}\")\n"
   ]
  },
  {
   "cell_type": "code",
   "execution_count": null,
   "metadata": {},
   "outputs": [],
   "source": [
    "# verify the gradient using the torch library\n",
    "# torch should give you the exact same gradient\n",
    "import torch\n"
   ]
  }
 ],
 "metadata": {
  "kernelspec": {
   "display_name": "Python 3",
   "language": "python",
   "name": "python3"
  },
  "language_info": {
   "codemirror_mode": {
    "name": "ipython",
    "version": 3
   },
   "file_extension": ".py",
   "mimetype": "text/x-python",
   "name": "python",
   "nbconvert_exporter": "python",
   "pygments_lexer": "ipython3",
   "version": "3.10.6"
  },
  "orig_nbformat": 4,
  "vscode": {
   "interpreter": {
    "hash": "31f2aee4e71d21fbe5cf8b01ff0e069b9275f58929596ceb00d14d90e3e16cd6"
   }
  }
 },
 "nbformat": 4,
 "nbformat_minor": 2
}
