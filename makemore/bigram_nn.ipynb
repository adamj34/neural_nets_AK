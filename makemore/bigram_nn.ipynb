{
 "cells": [
  {
   "cell_type": "code",
   "execution_count": 2,
   "metadata": {},
   "outputs": [],
   "source": [
    "import torch\n",
    "import matplotlib.pyplot as plt\n",
    "words = open('names.txt', 'r').read().splitlines()"
   ]
  },
  {
   "cell_type": "code",
   "execution_count": 3,
   "metadata": {},
   "outputs": [
    {
     "data": {
      "text/plain": [
       "{'a': 1,\n",
       " 'b': 2,\n",
       " 'c': 3,\n",
       " 'd': 4,\n",
       " 'e': 5,\n",
       " 'f': 6,\n",
       " 'g': 7,\n",
       " 'h': 8,\n",
       " 'i': 9,\n",
       " 'j': 10,\n",
       " 'k': 11,\n",
       " 'l': 12,\n",
       " 'm': 13,\n",
       " 'n': 14,\n",
       " 'o': 15,\n",
       " 'p': 16,\n",
       " 'q': 17,\n",
       " 'r': 18,\n",
       " 's': 19,\n",
       " 't': 20,\n",
       " 'u': 21,\n",
       " 'v': 22,\n",
       " 'w': 23,\n",
       " 'x': 24,\n",
       " 'y': 25,\n",
       " 'z': 26,\n",
       " '.': 0}"
      ]
     },
     "execution_count": 3,
     "metadata": {},
     "output_type": "execute_result"
    }
   ],
   "source": [
    "letters = sorted(list(set(''.join(words))))\n",
    "str_to_inx = {str:inx+1 for inx, str in enumerate(letters)}\n",
    "str_to_inx['.'] = 0\n",
    "inx_to_str = {inx:str for str, inx in str_to_inx.items()}\n",
    "str_to_inx"
   ]
  },
  {
   "cell_type": "code",
   "execution_count": 4,
   "metadata": {},
   "outputs": [
    {
     "data": {
      "text/plain": [
       "(tensor([ 0,  5, 13, 13,  1]), tensor([ 5, 13, 13,  1,  0]))"
      ]
     },
     "execution_count": 4,
     "metadata": {},
     "output_type": "execute_result"
    }
   ],
   "source": [
    "#create the training set of bigrams (x,y)\n",
    "xs, ys = [], []\n",
    "for w in words[:1]:\n",
    "    chars = ['.'] + list(w) + ['.']\n",
    "    for ch1, ch2 in zip(chars, chars[1:]):\n",
    "        xi = str_to_inx[ch1]\n",
    "        yi = str_to_inx[ch2]\n",
    "        xs.append(xi)\n",
    "        ys.append(yi)\n",
    "\n",
    "xs, ys = torch.tensor(xs), torch.tensor(ys)\n",
    "xs, ys"
   ]
  },
  {
   "cell_type": "code",
   "execution_count": 5,
   "metadata": {},
   "outputs": [
    {
     "data": {
      "text/plain": [
       "torch.Size([5, 27])"
      ]
     },
     "execution_count": 5,
     "metadata": {},
     "output_type": "execute_result"
    }
   ],
   "source": [
    "# one hot encoding integers\n",
    "import torch.nn.functional as F\n",
    "x_enc = F.one_hot(xs, num_classes=27).float()\n",
    "y_enc = F.one_hot(ys, num_classes=27).float()\n",
    "x_enc.shape"
   ]
  },
  {
   "cell_type": "code",
   "execution_count": 6,
   "metadata": {},
   "outputs": [
    {
     "data": {
      "text/plain": [
       "<matplotlib.image.AxesImage at 0x7fce21845f90>"
      ]
     },
     "execution_count": 6,
     "metadata": {},
     "output_type": "execute_result"
    },
    {
     "data": {
      "image/png": "[encoded data removed]",
      "text/plain": [
       "<Figure size 640x480 with 1 Axes>"
      ]
     },
     "metadata": {},
     "output_type": "display_data"
    }
   ],
   "source": [
    "plt.imshow(x_enc)"
   ]
  },
  {
   "cell_type": "code",
   "execution_count": 7,
   "metadata": {},
   "outputs": [
    {
     "data": {
      "text/plain": [
       "tensor([[-0.2199, -1.2762,  0.7173, -0.6069,  1.6138, -1.5830,  0.3415, -1.7884,\n",
       "          0.9828,  0.9421,  1.5194, -0.2675,  0.7042,  2.6128, -1.2648, -1.8579,\n",
       "         -0.9390, -0.9113, -2.8052, -0.7079,  1.0009,  0.4203,  0.9963,  0.4144,\n",
       "          1.6297,  0.0602, -0.4963],\n",
       "        [-2.0008,  3.3134, -0.0096, -1.3586,  1.1261, -1.1859,  1.2498,  0.8429,\n",
       "          0.1882, -0.7432, -1.4732,  0.8612,  0.2084, -1.2662, -1.1605, -0.9312,\n",
       "          1.0496,  0.7242, -1.3558,  0.5132, -1.3252,  1.3319,  0.9191,  0.9374,\n",
       "          0.4454,  0.6987,  1.3871],\n",
       "        [ 1.0965, -0.3512,  1.1221,  1.2566, -0.9546,  0.2417, -0.7651, -0.6546,\n",
       "          0.0939, -0.2471,  2.3374,  0.9427, -0.6889,  1.3949, -0.6869, -0.6972,\n",
       "          0.8991, -0.9817,  0.8907,  1.2561,  1.8034,  0.5897, -0.1908,  0.0195,\n",
       "         -1.7264,  1.0716, -0.2855],\n",
       "        [ 1.0965, -0.3512,  1.1221,  1.2566, -0.9546,  0.2417, -0.7651, -0.6546,\n",
       "          0.0939, -0.2471,  2.3374,  0.9427, -0.6889,  1.3949, -0.6869, -0.6972,\n",
       "          0.8991, -0.9817,  0.8907,  1.2561,  1.8034,  0.5897, -0.1908,  0.0195,\n",
       "         -1.7264,  1.0716, -0.2855],\n",
       "        [-0.7138, -0.1732, -0.7616,  1.0090,  0.6137,  1.3891, -0.0434, -0.6025,\n",
       "         -0.9111, -0.1683,  1.3983, -0.6444, -1.6048, -1.2460,  0.1349,  0.5938,\n",
       "         -1.7656,  0.4649, -1.6230,  0.7742,  1.4692, -1.0457, -1.3916, -1.0392,\n",
       "          0.6106,  0.0759, -0.2092]])"
      ]
     },
     "execution_count": 7,
     "metadata": {},
     "output_type": "execute_result"
    }
   ],
   "source": [
    "W = torch.randn((27, 27))\n",
    "x_enc @ W"
   ]
  },
  {
   "cell_type": "code",
   "execution_count": 8,
   "metadata": {},
   "outputs": [
    {
     "data": {
      "text/plain": [
       "tensor([[0.0149, 0.0052, 0.0381, 0.0101, 0.0935, 0.0038, 0.0262, 0.0031, 0.0497,\n",
       "         0.0477, 0.0850, 0.0142, 0.0376, 0.2538, 0.0053, 0.0029, 0.0073, 0.0075,\n",
       "         0.0011, 0.0092, 0.0506, 0.0283, 0.0504, 0.0282, 0.0950, 0.0198, 0.0113],\n",
       "        [0.0020, 0.4035, 0.0145, 0.0038, 0.0453, 0.0045, 0.0512, 0.0341, 0.0177,\n",
       "         0.0070, 0.0034, 0.0347, 0.0181, 0.0041, 0.0046, 0.0058, 0.0419, 0.0303,\n",
       "         0.0038, 0.0245, 0.0039, 0.0556, 0.0368, 0.0375, 0.0229, 0.0295, 0.0588],\n",
       "        [0.0538, 0.0127, 0.0552, 0.0632, 0.0069, 0.0229, 0.0084, 0.0093, 0.0198,\n",
       "         0.0140, 0.1862, 0.0462, 0.0090, 0.0725, 0.0090, 0.0090, 0.0442, 0.0067,\n",
       "         0.0438, 0.0631, 0.1092, 0.0324, 0.0149, 0.0183, 0.0032, 0.0525, 0.0135],\n",
       "        [0.0538, 0.0127, 0.0552, 0.0632, 0.0069, 0.0229, 0.0084, 0.0093, 0.0198,\n",
       "         0.0140, 0.1862, 0.0462, 0.0090, 0.0725, 0.0090, 0.0090, 0.0442, 0.0067,\n",
       "         0.0438, 0.0631, 0.1092, 0.0324, 0.0149, 0.0183, 0.0032, 0.0525, 0.0135],\n",
       "        [0.0143, 0.0245, 0.0136, 0.0799, 0.0538, 0.1168, 0.0279, 0.0159, 0.0117,\n",
       "         0.0246, 0.1179, 0.0153, 0.0059, 0.0084, 0.0333, 0.0527, 0.0050, 0.0464,\n",
       "         0.0057, 0.0632, 0.1266, 0.0102, 0.0072, 0.0103, 0.0536, 0.0314, 0.0236]])"
      ]
     },
     "execution_count": 8,
     "metadata": {},
     "output_type": "execute_result"
    }
   ],
   "source": [
    "logits = x_enc @ W # log-counts \n",
    "counts = logits.exp() # equivalent to N from naive\n",
    "probs = counts / counts.sum(1, keepdims=True)\n",
    "probs"
   ]
  },
  {
   "cell_type": "code",
   "execution_count": 9,
   "metadata": {},
   "outputs": [],
   "source": [
    "# SUMMARY ------------------------------>>>>"
   ]
  },
  {
   "cell_type": "code",
   "execution_count": 10,
   "metadata": {},
   "outputs": [
    {
     "data": {
      "text/plain": [
       "tensor([ 0,  5, 13, 13,  1])"
      ]
     },
     "execution_count": 10,
     "metadata": {},
     "output_type": "execute_result"
    }
   ],
   "source": [
    "xs"
   ]
  },
  {
   "cell_type": "code",
   "execution_count": 11,
   "metadata": {},
   "outputs": [
    {
     "data": {
      "text/plain": [
       "tensor([ 5, 13, 13,  1,  0])"
      ]
     },
     "execution_count": 11,
     "metadata": {},
     "output_type": "execute_result"
    }
   ],
   "source": [
    "ys"
   ]
  },
  {
   "cell_type": "code",
   "execution_count": 12,
   "metadata": {},
   "outputs": [],
   "source": [
    "# randomly initialize 27 neurons' weights. each neuron receives 27 inputs hence 27 x 27\n",
    "g = torch.Generator().manual_seed(2147483647)\n",
    "W = torch.randn((27, 27), generator=g)"
   ]
  },
  {
   "cell_type": "code",
   "execution_count": 13,
   "metadata": {},
   "outputs": [
    {
     "data": {
      "text/plain": [
       "<matplotlib.image.AxesImage at 0x7fce1f7482b0>"
      ]
     },
     "execution_count": 13,
     "metadata": {},
     "output_type": "execute_result"
    },
    {
     "data": {
      "image/png": "[encoded data removed]",
      "text/plain": [
       "<Figure size 640x480 with 1 Axes>"
      ]
     },
     "metadata": {},
     "output_type": "display_data"
    }
   ],
   "source": [
    "xenc = F.one_hot(xs, num_classes=27).float() # input to the network: one-hot encoding\n",
    "logits = xenc @ W # predict log-counts\n",
    "counts = logits.exp() # counts, equivalent to N\n",
    "probs = counts / counts.sum(1, keepdims=True) # probabilities for next character\n",
    "# btw: the last 2 lines here are together called a 'softmax'\n",
    "plt.imshow(probs)"
   ]
  },
  {
   "cell_type": "code",
   "execution_count": 14,
   "metadata": {},
   "outputs": [
    {
     "data": {
      "text/plain": [
       "torch.Size([5, 27])"
      ]
     },
     "execution_count": 14,
     "metadata": {},
     "output_type": "execute_result"
    }
   ],
   "source": [
    "probs.shape"
   ]
  },
  {
   "cell_type": "code",
   "execution_count": 15,
   "metadata": {},
   "outputs": [
    {
     "name": "stdout",
     "output_type": "stream",
     "text": [
      "--------\n",
      "bigram example 1: .e (indexes 0,5)\n",
      "input to the neural net: 0\n",
      "output probabilities from the neural net: tensor([0.0607, 0.0100, 0.0123, 0.0042, 0.0168, 0.0123, 0.0027, 0.0232, 0.0137,\n",
      "        0.0313, 0.0079, 0.0278, 0.0091, 0.0082, 0.0500, 0.2378, 0.0603, 0.0025,\n",
      "        0.0249, 0.0055, 0.0339, 0.0109, 0.0029, 0.0198, 0.0118, 0.1537, 0.1459])\n",
      "label (actual next character): 5\n",
      "probability assigned by the net to the the correct character: 0.01228625513613224\n",
      "log likelihood: -4.399273872375488\n",
      "negative log likelihood: 4.399273872375488\n",
      "--------\n",
      "bigram example 2: em (indexes 5,13)\n",
      "input to the neural net: 5\n",
      "output probabilities from the neural net: tensor([0.0290, 0.0796, 0.0248, 0.0521, 0.1989, 0.0289, 0.0094, 0.0335, 0.0097,\n",
      "        0.0301, 0.0702, 0.0228, 0.0115, 0.0181, 0.0108, 0.0315, 0.0291, 0.0045,\n",
      "        0.0916, 0.0215, 0.0486, 0.0300, 0.0501, 0.0027, 0.0118, 0.0022, 0.0472])\n",
      "label (actual next character): 13\n",
      "probability assigned by the net to the the correct character: 0.018050700426101685\n",
      "log likelihood: -4.014570713043213\n",
      "negative log likelihood: 4.014570713043213\n",
      "--------\n",
      "bigram example 3: mm (indexes 13,13)\n",
      "input to the neural net: 13\n",
      "output probabilities from the neural net: tensor([0.0312, 0.0737, 0.0484, 0.0333, 0.0674, 0.0200, 0.0263, 0.0249, 0.1226,\n",
      "        0.0164, 0.0075, 0.0789, 0.0131, 0.0267, 0.0147, 0.0112, 0.0585, 0.0121,\n",
      "        0.0650, 0.0058, 0.0208, 0.0078, 0.0133, 0.0203, 0.1204, 0.0469, 0.0126])\n",
      "label (actual next character): 13\n",
      "probability assigned by the net to the the correct character: 0.026691533625125885\n",
      "log likelihood: -3.623408794403076\n",
      "negative log likelihood: 3.623408794403076\n",
      "--------\n",
      "bigram example 4: ma (indexes 13,1)\n",
      "input to the neural net: 13\n",
      "output probabilities from the neural net: tensor([0.0312, 0.0737, 0.0484, 0.0333, 0.0674, 0.0200, 0.0263, 0.0249, 0.1226,\n",
      "        0.0164, 0.0075, 0.0789, 0.0131, 0.0267, 0.0147, 0.0112, 0.0585, 0.0121,\n",
      "        0.0650, 0.0058, 0.0208, 0.0078, 0.0133, 0.0203, 0.1204, 0.0469, 0.0126])\n",
      "label (actual next character): 1\n",
      "probability assigned by the net to the the correct character: 0.07367686182260513\n",
      "log likelihood: -2.6080665588378906\n",
      "negative log likelihood: 2.6080665588378906\n",
      "--------\n",
      "bigram example 5: a. (indexes 1,0)\n",
      "input to the neural net: 1\n",
      "output probabilities from the neural net: tensor([0.0150, 0.0086, 0.0396, 0.0100, 0.0606, 0.0308, 0.1084, 0.0131, 0.0125,\n",
      "        0.0048, 0.1024, 0.0086, 0.0988, 0.0112, 0.0232, 0.0207, 0.0408, 0.0078,\n",
      "        0.0899, 0.0531, 0.0463, 0.0309, 0.0051, 0.0329, 0.0654, 0.0503, 0.0091])\n",
      "label (actual next character): 0\n",
      "probability assigned by the net to the the correct character: 0.014977526850998402\n",
      "log likelihood: -4.201204299926758\n",
      "negative log likelihood: 4.201204299926758\n",
      "=========\n",
      "average negative log likelihood, i.e. loss = 3.7693049907684326\n"
     ]
    }
   ],
   "source": [
    "nlls = torch.zeros(5)\n",
    "for i in range(5):\n",
    "  # i-th bigram:\n",
    "  x = xs[i].item() # input character index\n",
    "  y = ys[i].item() # label character index\n",
    "  print('--------')\n",
    "  print(f'bigram example {i+1}: {inx_to_str[x]}{inx_to_str[y]} (indexes {x},{y})')\n",
    "  print('input to the neural net:', x)\n",
    "  print('output probabilities from the neural net:', probs[i])\n",
    "  print('label (actual next character):', y)\n",
    "  p = probs[i, y]\n",
    "  print('probability assigned by the net to the the correct character:', p.item())\n",
    "  logp = torch.log(p)\n",
    "  print('log likelihood:', logp.item())\n",
    "  nll = -logp\n",
    "  print('negative log likelihood:', nll.item())\n",
    "  nlls[i] = nll\n",
    "\n",
    "print('=========')\n",
    "print('average negative log likelihood, i.e. loss =', nlls.mean().item())"
   ]
  },
  {
   "cell_type": "code",
   "execution_count": 16,
   "metadata": {},
   "outputs": [],
   "source": [
    "# _---------- OPTIMIZATION -------------"
   ]
  },
  {
   "cell_type": "code",
   "execution_count": 17,
   "metadata": {},
   "outputs": [
    {
     "data": {
      "text/plain": [
       "tensor([ 0,  5, 13, 13,  1])"
      ]
     },
     "execution_count": 17,
     "metadata": {},
     "output_type": "execute_result"
    }
   ],
   "source": [
    "xs"
   ]
  },
  {
   "cell_type": "code",
   "execution_count": 18,
   "metadata": {},
   "outputs": [
    {
     "data": {
      "text/plain": [
       "tensor([ 5, 13, 13,  1,  0])"
      ]
     },
     "execution_count": 18,
     "metadata": {},
     "output_type": "execute_result"
    }
   ],
   "source": [
    "ys"
   ]
  },
  {
   "cell_type": "code",
   "execution_count": 19,
   "metadata": {},
   "outputs": [],
   "source": [
    "# randomly initialize 27 neurons' weights. each neuron receives 27 inputs hence 27 x 27\n",
    "g = torch.Generator().manual_seed(2147483647)\n",
    "W = torch.randn((27, 27), generator=g, requires_grad=True)"
   ]
  },
  {
   "cell_type": "code",
   "execution_count": 20,
   "metadata": {},
   "outputs": [
    {
     "name": "stdout",
     "output_type": "stream",
     "text": [
      "tensor([[0.0607, 0.0100, 0.0123, 0.0042, 0.0168, 0.0123, 0.0027, 0.0232, 0.0137,\n",
      "         0.0313, 0.0079, 0.0278, 0.0091, 0.0082, 0.0500, 0.2378, 0.0603, 0.0025,\n",
      "         0.0249, 0.0055, 0.0339, 0.0109, 0.0029, 0.0198, 0.0118, 0.1537, 0.1459],\n",
      "        [0.0290, 0.0796, 0.0248, 0.0521, 0.1989, 0.0289, 0.0094, 0.0335, 0.0097,\n",
      "         0.0301, 0.0702, 0.0228, 0.0115, 0.0181, 0.0108, 0.0315, 0.0291, 0.0045,\n",
      "         0.0916, 0.0215, 0.0486, 0.0300, 0.0501, 0.0027, 0.0118, 0.0022, 0.0472],\n",
      "        [0.0312, 0.0737, 0.0484, 0.0333, 0.0674, 0.0200, 0.0263, 0.0249, 0.1226,\n",
      "         0.0164, 0.0075, 0.0789, 0.0131, 0.0267, 0.0147, 0.0112, 0.0585, 0.0121,\n",
      "         0.0650, 0.0058, 0.0208, 0.0078, 0.0133, 0.0203, 0.1204, 0.0469, 0.0126],\n",
      "        [0.0312, 0.0737, 0.0484, 0.0333, 0.0674, 0.0200, 0.0263, 0.0249, 0.1226,\n",
      "         0.0164, 0.0075, 0.0789, 0.0131, 0.0267, 0.0147, 0.0112, 0.0585, 0.0121,\n",
      "         0.0650, 0.0058, 0.0208, 0.0078, 0.0133, 0.0203, 0.1204, 0.0469, 0.0126],\n",
      "        [0.0150, 0.0086, 0.0396, 0.0100, 0.0606, 0.0308, 0.1084, 0.0131, 0.0125,\n",
      "         0.0048, 0.1024, 0.0086, 0.0988, 0.0112, 0.0232, 0.0207, 0.0408, 0.0078,\n",
      "         0.0899, 0.0531, 0.0463, 0.0309, 0.0051, 0.0329, 0.0654, 0.0503, 0.0091]],\n",
      "       grad_fn=<DivBackward0>)\n"
     ]
    },
    {
     "data": {
      "text/plain": [
       "tensor(3.7693, grad_fn=<NegBackward0>)"
      ]
     },
     "execution_count": 20,
     "metadata": {},
     "output_type": "execute_result"
    }
   ],
   "source": [
    "# forward pass\n",
    "xenc = F.one_hot(xs, num_classes=27).float() # input to the network: one-hot encoding\n",
    "logits = xenc @ W # predict log-counts\n",
    "counts = logits.exp() # counts, equivalent to N\n",
    "probs = counts / counts.sum(1, keepdims=True) # probabilities for next character\n",
    "print(probs)\n",
    "loss = -probs[torch.arange(0,5), ys].log().mean() # negative log-likelihood\n",
    "loss"
   ]
  },
  {
   "cell_type": "code",
   "execution_count": 21,
   "metadata": {},
   "outputs": [
    {
     "data": {
      "text/plain": [
       "torch.Size([5, 27])"
      ]
     },
     "execution_count": 21,
     "metadata": {},
     "output_type": "execute_result"
    }
   ],
   "source": [
    "probs.shape"
   ]
  },
  {
   "cell_type": "code",
   "execution_count": 22,
   "metadata": {},
   "outputs": [],
   "source": [
    "# backward pass\n",
    "W.grad = None # set to zero the gradient\n",
    "loss.backward()\n"
   ]
  },
  {
   "cell_type": "code",
   "execution_count": 23,
   "metadata": {},
   "outputs": [],
   "source": [
    "W.data += -0.2 * W.grad"
   ]
  },
  {
   "cell_type": "code",
   "execution_count": 24,
   "metadata": {},
   "outputs": [
    {
     "name": "stdout",
     "output_type": "stream",
     "text": [
      "number of examples:  228146\n"
     ]
    }
   ],
   "source": [
    "# create the dataset\n",
    "xs, ys = [], []\n",
    "for w in words:\n",
    "  chs = ['.'] + list(w) + ['.']\n",
    "  for ch1, ch2 in zip(chs, chs[1:]):\n",
    "    ix1 = str_to_inx[ch1]\n",
    "    ix2 = str_to_inx[ch2]\n",
    "    xs.append(ix1)\n",
    "    ys.append(ix2)\n",
    "xs = torch.tensor(xs)\n",
    "ys = torch.tensor(ys)\n",
    "input_num = xs.nelement()\n",
    "print('number of examples: ', input_num)\n",
    "\n",
    "# initialize the 'network'\n",
    "g = torch.Generator().manual_seed(2147483647)\n",
    "W = torch.randn((27, 27), generator=g, requires_grad=True)"
   ]
  },
  {
   "cell_type": "code",
   "execution_count": 25,
   "metadata": {},
   "outputs": [
    {
     "name": "stdout",
     "output_type": "stream",
     "text": [
      "tensor(3.7590, grad_fn=<NegBackward0>)\n",
      "tensor(3.3711, grad_fn=<NegBackward0>)\n",
      "tensor(3.1540, grad_fn=<NegBackward0>)\n",
      "tensor(3.0204, grad_fn=<NegBackward0>)\n",
      "tensor(2.9277, grad_fn=<NegBackward0>)\n",
      "tensor(2.8604, grad_fn=<NegBackward0>)\n",
      "tensor(2.8097, grad_fn=<NegBackward0>)\n",
      "tensor(2.7701, grad_fn=<NegBackward0>)\n",
      "tensor(2.7381, grad_fn=<NegBackward0>)\n",
      "tensor(2.7115, grad_fn=<NegBackward0>)\n",
      "tensor(2.6890, grad_fn=<NegBackward0>)\n",
      "tensor(2.6697, grad_fn=<NegBackward0>)\n",
      "tensor(2.6529, grad_fn=<NegBackward0>)\n",
      "tensor(2.6383, grad_fn=<NegBackward0>)\n",
      "tensor(2.6254, grad_fn=<NegBackward0>)\n",
      "tensor(2.6140, grad_fn=<NegBackward0>)\n",
      "tensor(2.6039, grad_fn=<NegBackward0>)\n",
      "tensor(2.5948, grad_fn=<NegBackward0>)\n",
      "tensor(2.5867, grad_fn=<NegBackward0>)\n",
      "tensor(2.5794, grad_fn=<NegBackward0>)\n",
      "tensor(2.5728, grad_fn=<NegBackward0>)\n",
      "tensor(2.5668, grad_fn=<NegBackward0>)\n",
      "tensor(2.5613, grad_fn=<NegBackward0>)\n",
      "tensor(2.5563, grad_fn=<NegBackward0>)\n",
      "tensor(2.5516, grad_fn=<NegBackward0>)\n",
      "tensor(2.5474, grad_fn=<NegBackward0>)\n",
      "tensor(2.5434, grad_fn=<NegBackward0>)\n",
      "tensor(2.5397, grad_fn=<NegBackward0>)\n",
      "tensor(2.5363, grad_fn=<NegBackward0>)\n",
      "tensor(2.5332, grad_fn=<NegBackward0>)\n",
      "tensor(2.5302, grad_fn=<NegBackward0>)\n",
      "tensor(2.5274, grad_fn=<NegBackward0>)\n",
      "tensor(2.5248, grad_fn=<NegBackward0>)\n",
      "tensor(2.5223, grad_fn=<NegBackward0>)\n",
      "tensor(2.5200, grad_fn=<NegBackward0>)\n",
      "tensor(2.5179, grad_fn=<NegBackward0>)\n",
      "tensor(2.5158, grad_fn=<NegBackward0>)\n",
      "tensor(2.5139, grad_fn=<NegBackward0>)\n",
      "tensor(2.5121, grad_fn=<NegBackward0>)\n",
      "tensor(2.5103, grad_fn=<NegBackward0>)\n",
      "tensor(2.5087, grad_fn=<NegBackward0>)\n",
      "tensor(2.5071, grad_fn=<NegBackward0>)\n",
      "tensor(2.5057, grad_fn=<NegBackward0>)\n",
      "tensor(2.5043, grad_fn=<NegBackward0>)\n",
      "tensor(2.5029, grad_fn=<NegBackward0>)\n",
      "tensor(2.5017, grad_fn=<NegBackward0>)\n",
      "tensor(2.5005, grad_fn=<NegBackward0>)\n",
      "tensor(2.4993, grad_fn=<NegBackward0>)\n",
      "tensor(2.4982, grad_fn=<NegBackward0>)\n",
      "tensor(2.4971, grad_fn=<NegBackward0>)\n",
      "tensor(2.4961, grad_fn=<NegBackward0>)\n",
      "tensor(2.4952, grad_fn=<NegBackward0>)\n",
      "tensor(2.4942, grad_fn=<NegBackward0>)\n",
      "tensor(2.4934, grad_fn=<NegBackward0>)\n",
      "tensor(2.4925, grad_fn=<NegBackward0>)\n",
      "tensor(2.4917, grad_fn=<NegBackward0>)\n",
      "tensor(2.4909, grad_fn=<NegBackward0>)\n",
      "tensor(2.4902, grad_fn=<NegBackward0>)\n",
      "tensor(2.4894, grad_fn=<NegBackward0>)\n",
      "tensor(2.4887, grad_fn=<NegBackward0>)\n",
      "tensor(2.4880, grad_fn=<NegBackward0>)\n",
      "tensor(2.4874, grad_fn=<NegBackward0>)\n",
      "tensor(2.4868, grad_fn=<NegBackward0>)\n",
      "tensor(2.4862, grad_fn=<NegBackward0>)\n",
      "tensor(2.4856, grad_fn=<NegBackward0>)\n",
      "tensor(2.4850, grad_fn=<NegBackward0>)\n",
      "tensor(2.4845, grad_fn=<NegBackward0>)\n",
      "tensor(2.4839, grad_fn=<NegBackward0>)\n",
      "tensor(2.4834, grad_fn=<NegBackward0>)\n",
      "tensor(2.4829, grad_fn=<NegBackward0>)\n",
      "tensor(2.4824, grad_fn=<NegBackward0>)\n",
      "tensor(2.4820, grad_fn=<NegBackward0>)\n",
      "tensor(2.4815, grad_fn=<NegBackward0>)\n",
      "tensor(2.4811, grad_fn=<NegBackward0>)\n",
      "tensor(2.4806, grad_fn=<NegBackward0>)\n",
      "tensor(2.4802, grad_fn=<NegBackward0>)\n",
      "tensor(2.4798, grad_fn=<NegBackward0>)\n",
      "tensor(2.4794, grad_fn=<NegBackward0>)\n",
      "tensor(2.4790, grad_fn=<NegBackward0>)\n",
      "tensor(2.4787, grad_fn=<NegBackward0>)\n",
      "tensor(2.4783, grad_fn=<NegBackward0>)\n",
      "tensor(2.4779, grad_fn=<NegBackward0>)\n",
      "tensor(2.4776, grad_fn=<NegBackward0>)\n",
      "tensor(2.4773, grad_fn=<NegBackward0>)\n",
      "tensor(2.4769, grad_fn=<NegBackward0>)\n",
      "tensor(2.4766, grad_fn=<NegBackward0>)\n",
      "tensor(2.4763, grad_fn=<NegBackward0>)\n",
      "tensor(2.4760, grad_fn=<NegBackward0>)\n",
      "tensor(2.4757, grad_fn=<NegBackward0>)\n",
      "tensor(2.4754, grad_fn=<NegBackward0>)\n",
      "tensor(2.4751, grad_fn=<NegBackward0>)\n",
      "tensor(2.4749, grad_fn=<NegBackward0>)\n",
      "tensor(2.4746, grad_fn=<NegBackward0>)\n",
      "tensor(2.4743, grad_fn=<NegBackward0>)\n",
      "tensor(2.4741, grad_fn=<NegBackward0>)\n",
      "tensor(2.4738, grad_fn=<NegBackward0>)\n",
      "tensor(2.4736, grad_fn=<NegBackward0>)\n",
      "tensor(2.4733, grad_fn=<NegBackward0>)\n",
      "tensor(2.4731, grad_fn=<NegBackward0>)\n",
      "tensor(2.4729, grad_fn=<NegBackward0>)\n",
      "tensor(2.4727, grad_fn=<NegBackward0>)\n",
      "tensor(2.4724, grad_fn=<NegBackward0>)\n",
      "tensor(2.4722, grad_fn=<NegBackward0>)\n",
      "tensor(2.4720, grad_fn=<NegBackward0>)\n",
      "tensor(2.4718, grad_fn=<NegBackward0>)\n",
      "tensor(2.4716, grad_fn=<NegBackward0>)\n",
      "tensor(2.4714, grad_fn=<NegBackward0>)\n",
      "tensor(2.4712, grad_fn=<NegBackward0>)\n",
      "tensor(2.4710, grad_fn=<NegBackward0>)\n",
      "tensor(2.4708, grad_fn=<NegBackward0>)\n",
      "tensor(2.4707, grad_fn=<NegBackward0>)\n",
      "tensor(2.4705, grad_fn=<NegBackward0>)\n",
      "tensor(2.4703, grad_fn=<NegBackward0>)\n",
      "tensor(2.4701, grad_fn=<NegBackward0>)\n",
      "tensor(2.4700, grad_fn=<NegBackward0>)\n",
      "tensor(2.4698, grad_fn=<NegBackward0>)\n",
      "tensor(2.4697, grad_fn=<NegBackward0>)\n",
      "tensor(2.4695, grad_fn=<NegBackward0>)\n",
      "tensor(2.4693, grad_fn=<NegBackward0>)\n",
      "tensor(2.4692, grad_fn=<NegBackward0>)\n",
      "tensor(2.4690, grad_fn=<NegBackward0>)\n",
      "tensor(2.4689, grad_fn=<NegBackward0>)\n",
      "tensor(2.4687, grad_fn=<NegBackward0>)\n",
      "tensor(2.4686, grad_fn=<NegBackward0>)\n",
      "tensor(2.4685, grad_fn=<NegBackward0>)\n",
      "tensor(2.4683, grad_fn=<NegBackward0>)\n",
      "tensor(2.4682, grad_fn=<NegBackward0>)\n",
      "tensor(2.4681, grad_fn=<NegBackward0>)\n",
      "tensor(2.4679, grad_fn=<NegBackward0>)\n",
      "tensor(2.4678, grad_fn=<NegBackward0>)\n",
      "tensor(2.4677, grad_fn=<NegBackward0>)\n",
      "tensor(2.4676, grad_fn=<NegBackward0>)\n",
      "tensor(2.4674, grad_fn=<NegBackward0>)\n",
      "tensor(2.4673, grad_fn=<NegBackward0>)\n",
      "tensor(2.4672, grad_fn=<NegBackward0>)\n",
      "tensor(2.4671, grad_fn=<NegBackward0>)\n",
      "tensor(2.4670, grad_fn=<NegBackward0>)\n",
      "tensor(2.4669, grad_fn=<NegBackward0>)\n",
      "tensor(2.4668, grad_fn=<NegBackward0>)\n",
      "tensor(2.4667, grad_fn=<NegBackward0>)\n",
      "tensor(2.4666, grad_fn=<NegBackward0>)\n",
      "tensor(2.4665, grad_fn=<NegBackward0>)\n",
      "tensor(2.4663, grad_fn=<NegBackward0>)\n",
      "tensor(2.4662, grad_fn=<NegBackward0>)\n",
      "tensor(2.4662, grad_fn=<NegBackward0>)\n",
      "tensor(2.4661, grad_fn=<NegBackward0>)\n",
      "tensor(2.4660, grad_fn=<NegBackward0>)\n",
      "tensor(2.4659, grad_fn=<NegBackward0>)\n",
      "tensor(2.4658, grad_fn=<NegBackward0>)\n",
      "tensor(2.4657, grad_fn=<NegBackward0>)\n",
      "tensor(2.4656, grad_fn=<NegBackward0>)\n",
      "tensor(2.4655, grad_fn=<NegBackward0>)\n",
      "tensor(2.4654, grad_fn=<NegBackward0>)\n",
      "tensor(2.4653, grad_fn=<NegBackward0>)\n",
      "tensor(2.4652, grad_fn=<NegBackward0>)\n",
      "tensor(2.4652, grad_fn=<NegBackward0>)\n",
      "tensor(2.4651, grad_fn=<NegBackward0>)\n",
      "tensor(2.4650, grad_fn=<NegBackward0>)\n",
      "tensor(2.4649, grad_fn=<NegBackward0>)\n",
      "tensor(2.4648, grad_fn=<NegBackward0>)\n",
      "tensor(2.4648, grad_fn=<NegBackward0>)\n",
      "tensor(2.4647, grad_fn=<NegBackward0>)\n",
      "tensor(2.4646, grad_fn=<NegBackward0>)\n",
      "tensor(2.4645, grad_fn=<NegBackward0>)\n",
      "tensor(2.4645, grad_fn=<NegBackward0>)\n",
      "tensor(2.4644, grad_fn=<NegBackward0>)\n",
      "tensor(2.4643, grad_fn=<NegBackward0>)\n",
      "tensor(2.4642, grad_fn=<NegBackward0>)\n",
      "tensor(2.4642, grad_fn=<NegBackward0>)\n",
      "tensor(2.4641, grad_fn=<NegBackward0>)\n",
      "tensor(2.4640, grad_fn=<NegBackward0>)\n",
      "tensor(2.4640, grad_fn=<NegBackward0>)\n",
      "tensor(2.4639, grad_fn=<NegBackward0>)\n",
      "tensor(2.4638, grad_fn=<NegBackward0>)\n",
      "tensor(2.4638, grad_fn=<NegBackward0>)\n",
      "tensor(2.4637, grad_fn=<NegBackward0>)\n",
      "tensor(2.4636, grad_fn=<NegBackward0>)\n",
      "tensor(2.4636, grad_fn=<NegBackward0>)\n",
      "tensor(2.4635, grad_fn=<NegBackward0>)\n",
      "tensor(2.4635, grad_fn=<NegBackward0>)\n",
      "tensor(2.4634, grad_fn=<NegBackward0>)\n",
      "tensor(2.4633, grad_fn=<NegBackward0>)\n",
      "tensor(2.4633, grad_fn=<NegBackward0>)\n",
      "tensor(2.4632, grad_fn=<NegBackward0>)\n",
      "tensor(2.4632, grad_fn=<NegBackward0>)\n",
      "tensor(2.4631, grad_fn=<NegBackward0>)\n",
      "tensor(2.4631, grad_fn=<NegBackward0>)\n",
      "tensor(2.4630, grad_fn=<NegBackward0>)\n",
      "tensor(2.4630, grad_fn=<NegBackward0>)\n",
      "tensor(2.4629, grad_fn=<NegBackward0>)\n",
      "tensor(2.4628, grad_fn=<NegBackward0>)\n",
      "tensor(2.4628, grad_fn=<NegBackward0>)\n",
      "tensor(2.4627, grad_fn=<NegBackward0>)\n",
      "tensor(2.4627, grad_fn=<NegBackward0>)\n",
      "tensor(2.4626, grad_fn=<NegBackward0>)\n",
      "tensor(2.4626, grad_fn=<NegBackward0>)\n",
      "tensor(2.4625, grad_fn=<NegBackward0>)\n",
      "tensor(2.4625, grad_fn=<NegBackward0>)\n",
      "tensor(2.4624, grad_fn=<NegBackward0>)\n",
      "tensor(2.4624, grad_fn=<NegBackward0>)\n",
      "tensor(2.4623, grad_fn=<NegBackward0>)\n",
      "tensor(2.4623, grad_fn=<NegBackward0>)\n",
      "tensor(2.4623, grad_fn=<NegBackward0>)\n",
      "tensor(2.4622, grad_fn=<NegBackward0>)\n",
      "tensor(2.4622, grad_fn=<NegBackward0>)\n",
      "tensor(2.4621, grad_fn=<NegBackward0>)\n",
      "tensor(2.4621, grad_fn=<NegBackward0>)\n",
      "tensor(2.4620, grad_fn=<NegBackward0>)\n",
      "tensor(2.4620, grad_fn=<NegBackward0>)\n",
      "tensor(2.4619, grad_fn=<NegBackward0>)\n",
      "tensor(2.4619, grad_fn=<NegBackward0>)\n",
      "tensor(2.4619, grad_fn=<NegBackward0>)\n",
      "tensor(2.4618, grad_fn=<NegBackward0>)\n",
      "tensor(2.4618, grad_fn=<NegBackward0>)\n",
      "tensor(2.4617, grad_fn=<NegBackward0>)\n",
      "tensor(2.4617, grad_fn=<NegBackward0>)\n",
      "tensor(2.4617, grad_fn=<NegBackward0>)\n",
      "tensor(2.4616, grad_fn=<NegBackward0>)\n",
      "tensor(2.4616, grad_fn=<NegBackward0>)\n",
      "tensor(2.4615, grad_fn=<NegBackward0>)\n",
      "tensor(2.4615, grad_fn=<NegBackward0>)\n",
      "tensor(2.4615, grad_fn=<NegBackward0>)\n",
      "tensor(2.4614, grad_fn=<NegBackward0>)\n",
      "tensor(2.4614, grad_fn=<NegBackward0>)\n",
      "tensor(2.4613, grad_fn=<NegBackward0>)\n",
      "tensor(2.4613, grad_fn=<NegBackward0>)\n",
      "tensor(2.4613, grad_fn=<NegBackward0>)\n",
      "tensor(2.4612, grad_fn=<NegBackward0>)\n",
      "tensor(2.4612, grad_fn=<NegBackward0>)\n",
      "tensor(2.4612, grad_fn=<NegBackward0>)\n",
      "tensor(2.4611, grad_fn=<NegBackward0>)\n",
      "tensor(2.4611, grad_fn=<NegBackward0>)\n",
      "tensor(2.4611, grad_fn=<NegBackward0>)\n",
      "tensor(2.4610, grad_fn=<NegBackward0>)\n",
      "tensor(2.4610, grad_fn=<NegBackward0>)\n",
      "tensor(2.4610, grad_fn=<NegBackward0>)\n",
      "tensor(2.4609, grad_fn=<NegBackward0>)\n",
      "tensor(2.4609, grad_fn=<NegBackward0>)\n",
      "tensor(2.4609, grad_fn=<NegBackward0>)\n",
      "tensor(2.4608, grad_fn=<NegBackward0>)\n",
      "tensor(2.4608, grad_fn=<NegBackward0>)\n",
      "tensor(2.4608, grad_fn=<NegBackward0>)\n",
      "tensor(2.4607, grad_fn=<NegBackward0>)\n",
      "tensor(2.4607, grad_fn=<NegBackward0>)\n",
      "tensor(2.4607, grad_fn=<NegBackward0>)\n",
      "tensor(2.4606, grad_fn=<NegBackward0>)\n",
      "tensor(2.4606, grad_fn=<NegBackward0>)\n",
      "tensor(2.4606, grad_fn=<NegBackward0>)\n",
      "tensor(2.4606, grad_fn=<NegBackward0>)\n",
      "tensor(2.4605, grad_fn=<NegBackward0>)\n",
      "tensor(2.4605, grad_fn=<NegBackward0>)\n",
      "tensor(2.4605, grad_fn=<NegBackward0>)\n",
      "tensor(2.4604, grad_fn=<NegBackward0>)\n",
      "tensor(2.4604, grad_fn=<NegBackward0>)\n",
      "tensor(2.4604, grad_fn=<NegBackward0>)\n",
      "tensor(2.4603, grad_fn=<NegBackward0>)\n",
      "tensor(2.4603, grad_fn=<NegBackward0>)\n",
      "tensor(2.4603, grad_fn=<NegBackward0>)\n",
      "tensor(2.4603, grad_fn=<NegBackward0>)\n",
      "tensor(2.4602, grad_fn=<NegBackward0>)\n",
      "tensor(2.4602, grad_fn=<NegBackward0>)\n",
      "tensor(2.4602, grad_fn=<NegBackward0>)\n",
      "tensor(2.4602, grad_fn=<NegBackward0>)\n",
      "tensor(2.4601, grad_fn=<NegBackward0>)\n",
      "tensor(2.4601, grad_fn=<NegBackward0>)\n",
      "tensor(2.4601, grad_fn=<NegBackward0>)\n",
      "tensor(2.4601, grad_fn=<NegBackward0>)\n",
      "tensor(2.4600, grad_fn=<NegBackward0>)\n",
      "tensor(2.4600, grad_fn=<NegBackward0>)\n",
      "tensor(2.4600, grad_fn=<NegBackward0>)\n",
      "tensor(2.4600, grad_fn=<NegBackward0>)\n",
      "tensor(2.4599, grad_fn=<NegBackward0>)\n",
      "tensor(2.4599, grad_fn=<NegBackward0>)\n",
      "tensor(2.4599, grad_fn=<NegBackward0>)\n",
      "tensor(2.4599, grad_fn=<NegBackward0>)\n",
      "tensor(2.4598, grad_fn=<NegBackward0>)\n",
      "tensor(2.4598, grad_fn=<NegBackward0>)\n",
      "tensor(2.4598, grad_fn=<NegBackward0>)\n",
      "tensor(2.4598, grad_fn=<NegBackward0>)\n",
      "tensor(2.4597, grad_fn=<NegBackward0>)\n",
      "tensor(2.4597, grad_fn=<NegBackward0>)\n",
      "tensor(2.4597, grad_fn=<NegBackward0>)\n",
      "tensor(2.4597, grad_fn=<NegBackward0>)\n",
      "tensor(2.4596, grad_fn=<NegBackward0>)\n",
      "tensor(2.4596, grad_fn=<NegBackward0>)\n",
      "tensor(2.4596, grad_fn=<NegBackward0>)\n",
      "tensor(2.4596, grad_fn=<NegBackward0>)\n",
      "tensor(2.4596, grad_fn=<NegBackward0>)\n",
      "tensor(2.4595, grad_fn=<NegBackward0>)\n",
      "tensor(2.4595, grad_fn=<NegBackward0>)\n",
      "tensor(2.4595, grad_fn=<NegBackward0>)\n",
      "tensor(2.4595, grad_fn=<NegBackward0>)\n",
      "tensor(2.4595, grad_fn=<NegBackward0>)\n",
      "tensor(2.4594, grad_fn=<NegBackward0>)\n",
      "tensor(2.4594, grad_fn=<NegBackward0>)\n",
      "tensor(2.4594, grad_fn=<NegBackward0>)\n",
      "tensor(2.4594, grad_fn=<NegBackward0>)\n",
      "tensor(2.4593, grad_fn=<NegBackward0>)\n",
      "tensor(2.4593, grad_fn=<NegBackward0>)\n",
      "tensor(2.4593, grad_fn=<NegBackward0>)\n",
      "tensor(2.4593, grad_fn=<NegBackward0>)\n",
      "tensor(2.4593, grad_fn=<NegBackward0>)\n",
      "tensor(2.4592, grad_fn=<NegBackward0>)\n",
      "tensor(2.4592, grad_fn=<NegBackward0>)\n",
      "tensor(2.4592, grad_fn=<NegBackward0>)\n",
      "tensor(2.4592, grad_fn=<NegBackward0>)\n",
      "tensor(2.4592, grad_fn=<NegBackward0>)\n",
      "tensor(2.4592, grad_fn=<NegBackward0>)\n",
      "tensor(2.4591, grad_fn=<NegBackward0>)\n",
      "tensor(2.4591, grad_fn=<NegBackward0>)\n",
      "tensor(2.4591, grad_fn=<NegBackward0>)\n",
      "tensor(2.4591, grad_fn=<NegBackward0>)\n",
      "tensor(2.4591, grad_fn=<NegBackward0>)\n",
      "tensor(2.4590, grad_fn=<NegBackward0>)\n",
      "tensor(2.4590, grad_fn=<NegBackward0>)\n",
      "tensor(2.4590, grad_fn=<NegBackward0>)\n",
      "tensor(2.4590, grad_fn=<NegBackward0>)\n",
      "tensor(2.4590, grad_fn=<NegBackward0>)\n",
      "tensor(2.4590, grad_fn=<NegBackward0>)\n",
      "tensor(2.4589, grad_fn=<NegBackward0>)\n",
      "tensor(2.4589, grad_fn=<NegBackward0>)\n",
      "tensor(2.4589, grad_fn=<NegBackward0>)\n",
      "tensor(2.4589, grad_fn=<NegBackward0>)\n",
      "tensor(2.4589, grad_fn=<NegBackward0>)\n",
      "tensor(2.4589, grad_fn=<NegBackward0>)\n",
      "tensor(2.4588, grad_fn=<NegBackward0>)\n",
      "tensor(2.4588, grad_fn=<NegBackward0>)\n",
      "tensor(2.4588, grad_fn=<NegBackward0>)\n",
      "tensor(2.4588, grad_fn=<NegBackward0>)\n",
      "tensor(2.4588, grad_fn=<NegBackward0>)\n",
      "tensor(2.4588, grad_fn=<NegBackward0>)\n",
      "tensor(2.4587, grad_fn=<NegBackward0>)\n",
      "tensor(2.4587, grad_fn=<NegBackward0>)\n",
      "tensor(2.4587, grad_fn=<NegBackward0>)\n",
      "tensor(2.4587, grad_fn=<NegBackward0>)\n",
      "tensor(2.4587, grad_fn=<NegBackward0>)\n",
      "tensor(2.4587, grad_fn=<NegBackward0>)\n",
      "tensor(2.4586, grad_fn=<NegBackward0>)\n",
      "tensor(2.4586, grad_fn=<NegBackward0>)\n",
      "tensor(2.4586, grad_fn=<NegBackward0>)\n",
      "tensor(2.4586, grad_fn=<NegBackward0>)\n",
      "tensor(2.4586, grad_fn=<NegBackward0>)\n",
      "tensor(2.4586, grad_fn=<NegBackward0>)\n",
      "tensor(2.4585, grad_fn=<NegBackward0>)\n",
      "tensor(2.4585, grad_fn=<NegBackward0>)\n",
      "tensor(2.4585, grad_fn=<NegBackward0>)\n",
      "tensor(2.4585, grad_fn=<NegBackward0>)\n",
      "tensor(2.4585, grad_fn=<NegBackward0>)\n",
      "tensor(2.4585, grad_fn=<NegBackward0>)\n",
      "tensor(2.4585, grad_fn=<NegBackward0>)\n",
      "tensor(2.4584, grad_fn=<NegBackward0>)\n",
      "tensor(2.4584, grad_fn=<NegBackward0>)\n",
      "tensor(2.4584, grad_fn=<NegBackward0>)\n",
      "tensor(2.4584, grad_fn=<NegBackward0>)\n",
      "tensor(2.4584, grad_fn=<NegBackward0>)\n",
      "tensor(2.4584, grad_fn=<NegBackward0>)\n",
      "tensor(2.4584, grad_fn=<NegBackward0>)\n",
      "tensor(2.4583, grad_fn=<NegBackward0>)\n",
      "tensor(2.4583, grad_fn=<NegBackward0>)\n",
      "tensor(2.4583, grad_fn=<NegBackward0>)\n",
      "tensor(2.4583, grad_fn=<NegBackward0>)\n",
      "tensor(2.4583, grad_fn=<NegBackward0>)\n",
      "tensor(2.4583, grad_fn=<NegBackward0>)\n",
      "tensor(2.4583, grad_fn=<NegBackward0>)\n",
      "tensor(2.4583, grad_fn=<NegBackward0>)\n",
      "tensor(2.4582, grad_fn=<NegBackward0>)\n",
      "tensor(2.4582, grad_fn=<NegBackward0>)\n",
      "tensor(2.4582, grad_fn=<NegBackward0>)\n",
      "tensor(2.4582, grad_fn=<NegBackward0>)\n",
      "tensor(2.4582, grad_fn=<NegBackward0>)\n",
      "tensor(2.4582, grad_fn=<NegBackward0>)\n",
      "tensor(2.4582, grad_fn=<NegBackward0>)\n",
      "tensor(2.4582, grad_fn=<NegBackward0>)\n",
      "tensor(2.4581, grad_fn=<NegBackward0>)\n",
      "tensor(2.4581, grad_fn=<NegBackward0>)\n",
      "tensor(2.4581, grad_fn=<NegBackward0>)\n",
      "tensor(2.4581, grad_fn=<NegBackward0>)\n",
      "tensor(2.4581, grad_fn=<NegBackward0>)\n",
      "tensor(2.4581, grad_fn=<NegBackward0>)\n",
      "tensor(2.4581, grad_fn=<NegBackward0>)\n",
      "tensor(2.4581, grad_fn=<NegBackward0>)\n",
      "tensor(2.4580, grad_fn=<NegBackward0>)\n",
      "tensor(2.4580, grad_fn=<NegBackward0>)\n",
      "tensor(2.4580, grad_fn=<NegBackward0>)\n",
      "tensor(2.4580, grad_fn=<NegBackward0>)\n",
      "tensor(2.4580, grad_fn=<NegBackward0>)\n",
      "tensor(2.4580, grad_fn=<NegBackward0>)\n",
      "tensor(2.4580, grad_fn=<NegBackward0>)\n",
      "tensor(2.4580, grad_fn=<NegBackward0>)\n",
      "tensor(2.4579, grad_fn=<NegBackward0>)\n",
      "tensor(2.4579, grad_fn=<NegBackward0>)\n",
      "tensor(2.4579, grad_fn=<NegBackward0>)\n",
      "tensor(2.4579, grad_fn=<NegBackward0>)\n",
      "tensor(2.4579, grad_fn=<NegBackward0>)\n",
      "tensor(2.4579, grad_fn=<NegBackward0>)\n",
      "tensor(2.4579, grad_fn=<NegBackward0>)\n",
      "tensor(2.4579, grad_fn=<NegBackward0>)\n",
      "tensor(2.4579, grad_fn=<NegBackward0>)\n",
      "tensor(2.4578, grad_fn=<NegBackward0>)\n",
      "tensor(2.4578, grad_fn=<NegBackward0>)\n",
      "tensor(2.4578, grad_fn=<NegBackward0>)\n",
      "tensor(2.4578, grad_fn=<NegBackward0>)\n",
      "tensor(2.4578, grad_fn=<NegBackward0>)\n",
      "tensor(2.4578, grad_fn=<NegBackward0>)\n",
      "tensor(2.4578, grad_fn=<NegBackward0>)\n",
      "tensor(2.4578, grad_fn=<NegBackward0>)\n",
      "tensor(2.4578, grad_fn=<NegBackward0>)\n",
      "tensor(2.4578, grad_fn=<NegBackward0>)\n",
      "tensor(2.4577, grad_fn=<NegBackward0>)\n",
      "tensor(2.4577, grad_fn=<NegBackward0>)\n",
      "tensor(2.4577, grad_fn=<NegBackward0>)\n",
      "tensor(2.4577, grad_fn=<NegBackward0>)\n",
      "tensor(2.4577, grad_fn=<NegBackward0>)\n",
      "tensor(2.4577, grad_fn=<NegBackward0>)\n",
      "tensor(2.4577, grad_fn=<NegBackward0>)\n",
      "tensor(2.4577, grad_fn=<NegBackward0>)\n",
      "tensor(2.4577, grad_fn=<NegBackward0>)\n",
      "tensor(2.4576, grad_fn=<NegBackward0>)\n",
      "tensor(2.4576, grad_fn=<NegBackward0>)\n",
      "tensor(2.4576, grad_fn=<NegBackward0>)\n",
      "tensor(2.4576, grad_fn=<NegBackward0>)\n",
      "tensor(2.4576, grad_fn=<NegBackward0>)\n",
      "tensor(2.4576, grad_fn=<NegBackward0>)\n",
      "tensor(2.4576, grad_fn=<NegBackward0>)\n",
      "tensor(2.4576, grad_fn=<NegBackward0>)\n",
      "tensor(2.4576, grad_fn=<NegBackward0>)\n",
      "tensor(2.4576, grad_fn=<NegBackward0>)\n",
      "tensor(2.4576, grad_fn=<NegBackward0>)\n",
      "tensor(2.4575, grad_fn=<NegBackward0>)\n",
      "tensor(2.4575, grad_fn=<NegBackward0>)\n",
      "tensor(2.4575, grad_fn=<NegBackward0>)\n",
      "tensor(2.4575, grad_fn=<NegBackward0>)\n",
      "tensor(2.4575, grad_fn=<NegBackward0>)\n",
      "tensor(2.4575, grad_fn=<NegBackward0>)\n",
      "tensor(2.4575, grad_fn=<NegBackward0>)\n",
      "tensor(2.4575, grad_fn=<NegBackward0>)\n",
      "tensor(2.4575, grad_fn=<NegBackward0>)\n",
      "tensor(2.4575, grad_fn=<NegBackward0>)\n",
      "tensor(2.4575, grad_fn=<NegBackward0>)\n",
      "tensor(2.4574, grad_fn=<NegBackward0>)\n",
      "tensor(2.4574, grad_fn=<NegBackward0>)\n",
      "tensor(2.4574, grad_fn=<NegBackward0>)\n",
      "tensor(2.4574, grad_fn=<NegBackward0>)\n",
      "tensor(2.4574, grad_fn=<NegBackward0>)\n",
      "tensor(2.4574, grad_fn=<NegBackward0>)\n",
      "tensor(2.4574, grad_fn=<NegBackward0>)\n",
      "tensor(2.4574, grad_fn=<NegBackward0>)\n",
      "tensor(2.4574, grad_fn=<NegBackward0>)\n",
      "tensor(2.4574, grad_fn=<NegBackward0>)\n",
      "tensor(2.4574, grad_fn=<NegBackward0>)\n",
      "tensor(2.4573, grad_fn=<NegBackward0>)\n",
      "tensor(2.4573, grad_fn=<NegBackward0>)\n",
      "tensor(2.4573, grad_fn=<NegBackward0>)\n",
      "tensor(2.4573, grad_fn=<NegBackward0>)\n",
      "tensor(2.4573, grad_fn=<NegBackward0>)\n",
      "tensor(2.4573, grad_fn=<NegBackward0>)\n",
      "tensor(2.4573, grad_fn=<NegBackward0>)\n",
      "tensor(2.4573, grad_fn=<NegBackward0>)\n",
      "tensor(2.4573, grad_fn=<NegBackward0>)\n",
      "tensor(2.4573, grad_fn=<NegBackward0>)\n",
      "tensor(2.4573, grad_fn=<NegBackward0>)\n",
      "tensor(2.4573, grad_fn=<NegBackward0>)\n",
      "tensor(2.4573, grad_fn=<NegBackward0>)\n",
      "tensor(2.4572, grad_fn=<NegBackward0>)\n",
      "tensor(2.4572, grad_fn=<NegBackward0>)\n",
      "tensor(2.4572, grad_fn=<NegBackward0>)\n",
      "tensor(2.4572, grad_fn=<NegBackward0>)\n",
      "tensor(2.4572, grad_fn=<NegBackward0>)\n",
      "tensor(2.4572, grad_fn=<NegBackward0>)\n",
      "tensor(2.4572, grad_fn=<NegBackward0>)\n",
      "tensor(2.4572, grad_fn=<NegBackward0>)\n",
      "tensor(2.4572, grad_fn=<NegBackward0>)\n",
      "tensor(2.4572, grad_fn=<NegBackward0>)\n",
      "tensor(2.4572, grad_fn=<NegBackward0>)\n",
      "tensor(2.4572, grad_fn=<NegBackward0>)\n",
      "tensor(2.4572, grad_fn=<NegBackward0>)\n",
      "tensor(2.4571, grad_fn=<NegBackward0>)\n",
      "tensor(2.4571, grad_fn=<NegBackward0>)\n",
      "tensor(2.4571, grad_fn=<NegBackward0>)\n",
      "tensor(2.4571, grad_fn=<NegBackward0>)\n",
      "tensor(2.4571, grad_fn=<NegBackward0>)\n",
      "tensor(2.4571, grad_fn=<NegBackward0>)\n",
      "tensor(2.4571, grad_fn=<NegBackward0>)\n",
      "tensor(2.4571, grad_fn=<NegBackward0>)\n",
      "tensor(2.4571, grad_fn=<NegBackward0>)\n",
      "tensor(2.4571, grad_fn=<NegBackward0>)\n",
      "tensor(2.4571, grad_fn=<NegBackward0>)\n",
      "tensor(2.4571, grad_fn=<NegBackward0>)\n",
      "tensor(2.4571, grad_fn=<NegBackward0>)\n",
      "tensor(2.4571, grad_fn=<NegBackward0>)\n",
      "tensor(2.4570, grad_fn=<NegBackward0>)\n",
      "tensor(2.4570, grad_fn=<NegBackward0>)\n",
      "tensor(2.4570, grad_fn=<NegBackward0>)\n",
      "tensor(2.4570, grad_fn=<NegBackward0>)\n",
      "tensor(2.4570, grad_fn=<NegBackward0>)\n",
      "tensor(2.4570, grad_fn=<NegBackward0>)\n",
      "tensor(2.4570, grad_fn=<NegBackward0>)\n",
      "tensor(2.4570, grad_fn=<NegBackward0>)\n",
      "tensor(2.4570, grad_fn=<NegBackward0>)\n",
      "tensor(2.4570, grad_fn=<NegBackward0>)\n"
     ]
    }
   ],
   "source": [
    "xenc = F.one_hot(xs, num_classes=27).float() # input to the network: one-hot encoding\n",
    "for _ in range(500):\n",
    "    # forward pass\n",
    "    logits = xenc @ W # predict log-counts\n",
    "    counts = logits.exp() # counts, equivalent to N\n",
    "    probs = counts / counts.sum(1, keepdims=True) # probabilities for next character\n",
    "    loss = -probs[torch.arange(input_num), ys].log().mean() # negative log-likelihood\n",
    "    print(loss)\n",
    "    \n",
    "    # backward pass\n",
    "    W.grad = None\n",
    "    loss.backward()\n",
    "\n",
    "    # update\n",
    "    W.data += -50 * W.grad\n"
   ]
  },
  {
   "cell_type": "code",
   "execution_count": 26,
   "metadata": {},
   "outputs": [
    {
     "name": "stdout",
     "output_type": "stream",
     "text": [
      "mor.\n",
      "axx.\n",
      "minaymoryles.\n",
      "kondlaisah.\n",
      "anchshizarie.\n"
     ]
    }
   ],
   "source": [
    "g = torch.Generator().manual_seed(2147483647)\n",
    "\n",
    "for i in range(5):\n",
    "  \n",
    "  out = ''\n",
    "  ix = 0\n",
    "  while True:\n",
    "    \n",
    "    # ----------\n",
    "    # BEFORE:\n",
    "    #p = P[ix]\n",
    "    # ----------\n",
    "    # NOW:\n",
    "    xenc = F.one_hot(torch.tensor([ix]), num_classes=27).float()\n",
    "    logits = xenc @ W # predict log-counts\n",
    "    counts = logits.exp() # counts, equivalent to N\n",
    "    p = counts / counts.sum(1, keepdims=True) # probabilities for next character\n",
    "    # ----------\n",
    "    \n",
    "    ix = torch.multinomial(p, num_samples=1, replacement=True, generator=g).item()\n",
    "    out += inx_to_str[ix]\n",
    "    if ix == 0:\n",
    "      break\n",
    "  print(out)"
   ]
  }
 ],
 "metadata": {
  "kernelspec": {
   "display_name": "Python 3",
   "language": "python",
   "name": "python3"
  },
  "language_info": {
   "codemirror_mode": {
    "name": "ipython",
    "version": 3
   },
   "file_extension": ".py",
   "mimetype": "text/x-python",
   "name": "python",
   "nbconvert_exporter": "python",
   "pygments_lexer": "ipython3",
   "version": "3.10.6"
  },
  "orig_nbformat": 4,
  "vscode": {
   "interpreter": {
    "hash": "916dbcbb3f70747c44a77c7bcd40155683ae19c65e1c03b4aa3499c5328201f1"
   }
  }
 },
 "nbformat": 4,
 "nbformat_minor": 2
}
