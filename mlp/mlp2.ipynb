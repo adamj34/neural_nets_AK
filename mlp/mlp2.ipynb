{
 "cells": [
  {
   "cell_type": "code",
   "execution_count": 1,
   "metadata": {},
   "outputs": [],
   "source": [
    "import torch\n",
    "import torch.nn.functional as F\n",
    "import matplotlib.pyplot as plt # for making figures\n",
    "import random \n",
    "import numpy as np\n",
    "import math\n",
    "%matplotlib inline"
   ]
  },
  {
   "cell_type": "code",
   "execution_count": 2,
   "metadata": {},
   "outputs": [
    {
     "data": {
      "text/plain": [
       "['emma', 'olivia', 'ava', 'isabella', 'sophia', 'charlotte', 'mia', 'amelia']"
      ]
     },
     "execution_count": 2,
     "metadata": {},
     "output_type": "execute_result"
    }
   ],
   "source": [
    "# read in all the words\n",
    "words = open('names.txt', 'r').read().splitlines()\n",
    "words[:8]"
   ]
  },
  {
   "cell_type": "code",
   "execution_count": 3,
   "metadata": {},
   "outputs": [
    {
     "data": {
      "text/plain": [
       "{1: 'a',\n",
       " 2: 'b',\n",
       " 3: 'c',\n",
       " 4: 'd',\n",
       " 5: 'e',\n",
       " 6: 'f',\n",
       " 7: 'g',\n",
       " 8: 'h',\n",
       " 9: 'i',\n",
       " 10: 'j',\n",
       " 11: 'k',\n",
       " 12: 'l',\n",
       " 13: 'm',\n",
       " 14: 'n',\n",
       " 15: 'o',\n",
       " 16: 'p',\n",
       " 17: 'q',\n",
       " 18: 'r',\n",
       " 19: 's',\n",
       " 20: 't',\n",
       " 21: 'u',\n",
       " 22: 'v',\n",
       " 23: 'w',\n",
       " 24: 'x',\n",
       " 25: 'y',\n",
       " 26: 'z',\n",
       " 0: '.'}"
      ]
     },
     "execution_count": 3,
     "metadata": {},
     "output_type": "execute_result"
    }
   ],
   "source": [
    "chars = sorted(list(set(''.join(words))))\n",
    "str_to_inx = {str:inx for inx, str in enumerate(chars, start=1)}\n",
    "str_to_inx['.'] = 0\n",
    "inx_to_str = {str:inx for inx, str in str_to_inx.items()}\n",
    "vocab_size = len(inx_to_str)\n",
    "inx_to_str"
   ]
  },
  {
   "cell_type": "code",
   "execution_count": 4,
   "metadata": {},
   "outputs": [
    {
     "data": {
      "text/plain": [
       "tensor([[ 0,  0,  0],\n",
       "        [ 0,  0,  3],\n",
       "        [ 0,  3,  1],\n",
       "        ...,\n",
       "        [ 1, 18, 18],\n",
       "        [18, 18,  1],\n",
       "        [18,  1,  8]])"
      ]
     },
     "execution_count": 4,
     "metadata": {},
     "output_type": "execute_result"
    }
   ],
   "source": [
    "# build the dataset\n",
    "random.shuffle(words)\n",
    "block_size = 3 # context length: how many characters do we take to predict the next one?\n",
    "X, Y = [], []\n",
    "for word in words:\n",
    "    word = block_size * '.' + word + '.'\n",
    "    end_inx = block_size\n",
    "    for start_inx, char in enumerate(word[block_size:]):\n",
    "        X.append([str_to_inx[ch] for ch in word[start_inx:end_inx]])\n",
    "        Y.append(str_to_inx[char])\n",
    "        end_inx += 1\n",
    "\n",
    "\n",
    "X, Y = torch.tensor(X), torch.tensor(Y)\n",
    "X"
   ]
  },
  {
   "cell_type": "code",
   "execution_count": 5,
   "metadata": {},
   "outputs": [],
   "source": [
    "# data set splits\n",
    "train_range = math.ceil(len(X) * 0.8)\n",
    "dev_range = (len(X) - train_range) // 2\n",
    "\n",
    "training_set = X[:train_range]\n",
    "dev_set = X[train_range:train_range+dev_range]\n",
    "test_set = X[train_range+dev_range:]\n",
    "\n",
    "y_training_set = Y[:train_range]\n",
    "y_dev_set = Y[train_range:train_range+dev_range]\n",
    "y_test_set = Y[train_range+dev_range:]\n",
    "\n",
    "assert training_set.nelement() + dev_set.nelement() + test_set.nelement() == X.nelement(), \"Bad split\""
   ]
  },
  {
   "attachments": {},
   "cell_type": "markdown",
   "metadata": {},
   "source": [
    "Why *0.01, etc.? Weights are too diverse (i.e very wrong) at the initialization and it unnecessarily increases the loss at the beginning of the training. When they are too diverse tanh produces values very close to -1 or 1 which is bad for the gradient flow (see micrograd tanh implementation; gradient doesn't flow because it's in the flattened region)"
   ]
  },
  {
   "cell_type": "code",
   "execution_count": 44,
   "metadata": {},
   "outputs": [
    {
     "data": {
      "text/plain": [
       "11897"
      ]
     },
     "execution_count": 44,
     "metadata": {},
     "output_type": "execute_result"
    }
   ],
   "source": [
    "n_embd = 10 # the dimensionality of the character embedding vectors\n",
    "n_hidden = 200 # the number of neurons in the hidden layer of the MLP\n",
    "\n",
    "g = torch.Generator().manual_seed(2147483647) \n",
    "C = torch.randn((vocab_size, n_embd), generator=g)\n",
    "W1 = torch.randn((block_size*n_embd, n_hidden), generator=g)\n",
    "b1 = torch.randn(n_hidden, generator=g)\n",
    "W2 = torch.randn((n_hidden, vocab_size), generator=g) * 0.01 \n",
    "b2 = torch.randn(vocab_size, generator=g) * 0\n",
    "parameters = [C, W1, b1, W2, b2]\n",
    "for p in parameters:\n",
    "    p.requires_grad = True\n",
    "sum(p.nelement() for p in parameters) # number of parameters in total"
   ]
  },
  {
   "cell_type": "code",
   "execution_count": 53,
   "metadata": {},
   "outputs": [
    {
     "name": "stdout",
     "output_type": "stream",
     "text": [
      "      0/ 100000: 2.0768\n",
      "   1000/ 100000: 2.2006\n",
      "   2000/ 100000: 2.2361\n",
      "   3000/ 100000: 2.5647\n",
      "   4000/ 100000: 1.8772\n",
      "   5000/ 100000: 2.1576\n",
      "   6000/ 100000: 2.3506\n",
      "   7000/ 100000: 2.3904\n",
      "   8000/ 100000: 2.2920\n",
      "   9000/ 100000: 1.9919\n",
      "  10000/ 100000: 1.9360\n",
      "  11000/ 100000: 2.0415\n",
      "  12000/ 100000: 1.7497\n",
      "  13000/ 100000: 2.1140\n",
      "  14000/ 100000: 1.7926\n",
      "  15000/ 100000: 2.1066\n",
      "  16000/ 100000: 2.4009\n",
      "  17000/ 100000: 2.6332\n",
      "  18000/ 100000: 2.2955\n",
      "  19000/ 100000: 2.5328\n",
      "  20000/ 100000: 1.9735\n",
      "  21000/ 100000: 2.2375\n",
      "  22000/ 100000: 2.2449\n",
      "  23000/ 100000: 2.2736\n",
      "  24000/ 100000: 2.0960\n",
      "  25000/ 100000: 1.8999\n",
      "  26000/ 100000: 2.0845\n",
      "  27000/ 100000: 2.3020\n",
      "  28000/ 100000: 2.1530\n",
      "  29000/ 100000: 1.5323\n",
      "  30000/ 100000: 1.9211\n",
      "  31000/ 100000: 2.3818\n",
      "  32000/ 100000: 2.2806\n",
      "  33000/ 100000: 1.9206\n",
      "  34000/ 100000: 2.2128\n",
      "  35000/ 100000: 2.2183\n",
      "  36000/ 100000: 2.2118\n",
      "  37000/ 100000: 2.4975\n",
      "  38000/ 100000: 1.9714\n",
      "  39000/ 100000: 1.7957\n",
      "  40000/ 100000: 2.0809\n",
      "  41000/ 100000: 1.9296\n",
      "  42000/ 100000: 1.8207\n",
      "  43000/ 100000: 2.3668\n",
      "  44000/ 100000: 2.1405\n",
      "  45000/ 100000: 2.5607\n",
      "  46000/ 100000: 1.9753\n",
      "  47000/ 100000: 2.6551\n",
      "  48000/ 100000: 2.1503\n",
      "  49000/ 100000: 2.0610\n",
      "  50000/ 100000: 2.1258\n",
      "  51000/ 100000: 2.4392\n",
      "  52000/ 100000: 2.2780\n",
      "  53000/ 100000: 1.8485\n",
      "  54000/ 100000: 2.3464\n",
      "  55000/ 100000: 1.9489\n",
      "  56000/ 100000: 2.5987\n",
      "  57000/ 100000: 1.9784\n",
      "  58000/ 100000: 2.0299\n",
      "  59000/ 100000: 2.0819\n",
      "  60000/ 100000: 2.2095\n",
      "  61000/ 100000: 1.7956\n",
      "  62000/ 100000: 1.6366\n",
      "  63000/ 100000: 2.5869\n",
      "  64000/ 100000: 1.9849\n",
      "  65000/ 100000: 2.2607\n",
      "  66000/ 100000: 2.1864\n",
      "  67000/ 100000: 2.1042\n",
      "  68000/ 100000: 2.0918\n",
      "  69000/ 100000: 2.3294\n",
      "  70000/ 100000: 2.0756\n",
      "  71000/ 100000: 2.3202\n",
      "  72000/ 100000: 2.1116\n",
      "  73000/ 100000: 2.1228\n",
      "  74000/ 100000: 2.1987\n",
      "  75000/ 100000: 2.2116\n",
      "  76000/ 100000: 2.0440\n",
      "  77000/ 100000: 2.3090\n",
      "  78000/ 100000: 2.1056\n",
      "  79000/ 100000: 2.4220\n",
      "  80000/ 100000: 1.9567\n",
      "  81000/ 100000: 2.0293\n",
      "  82000/ 100000: 1.5345\n",
      "  83000/ 100000: 1.9561\n",
      "  84000/ 100000: 2.2672\n",
      "  85000/ 100000: 1.8762\n",
      "  86000/ 100000: 2.0594\n",
      "  87000/ 100000: 2.1885\n",
      "  88000/ 100000: 2.0833\n",
      "  89000/ 100000: 2.3218\n",
      "  90000/ 100000: 1.7175\n",
      "  91000/ 100000: 1.9882\n",
      "  92000/ 100000: 2.5135\n",
      "  93000/ 100000: 2.2933\n",
      "  94000/ 100000: 2.5099\n",
      "  95000/ 100000: 2.1509\n",
      "  96000/ 100000: 2.3320\n",
      "  97000/ 100000: 1.9310\n",
      "  98000/ 100000: 1.9839\n",
      "  99000/ 100000: 1.7799\n"
     ]
    },
    {
     "data": {
      "text/plain": [
       "1.9777179956436157"
      ]
     },
     "execution_count": 53,
     "metadata": {},
     "output_type": "execute_result"
    }
   ],
   "source": [
    "# train\n",
    "inxs = []\n",
    "losses = []\n",
    "batch_size = 32\n",
    "steps = 100000\n",
    "for i in range(steps):\n",
    "    # minibatch construct\n",
    "    inx = torch.randint(0, training_set.shape[0], (batch_size,), generator=g)\n",
    "\n",
    "    # forward pass\n",
    "    emb = C[training_set[inx]] # grab only those rows from the minibatch \n",
    "    h_preact = emb.view(-1, block_size*n_embd) @ W1 + b1\n",
    "    h = torch.tanh(h_preact)\n",
    "    logits = h @ W2 + b2\n",
    "    loss = F.cross_entropy(logits, y_training_set[inx]) + 0.01*(W2**2).mean()\n",
    "    # backward pass\n",
    "    for p in parameters:\n",
    "        p.grad = None\n",
    "    loss.backward()\n",
    "\n",
    "    # update parameters\n",
    "    l_r = 0.01\n",
    "    for p in parameters:\n",
    "        p.data += -l_r * p.grad\n",
    "\n",
    "    #stats\n",
    "    if i % 1000 == 0: # print every once in a while\n",
    "        print(f'{i:7d}/{steps:7d}: {loss.item():.4f}')\n",
    "    losses.append(loss.item())\n",
    "    inxs.append(i)\n",
    "loss.item() # best loss 2.14"
   ]
  },
  {
   "cell_type": "code",
   "execution_count": 49,
   "metadata": {},
   "outputs": [
    {
     "data": {
      "image/png": "[encoded data removed]",
      "text/plain": [
       "<Figure size 640x480 with 1 Axes>"
      ]
     },
     "metadata": {},
     "output_type": "display_data"
    }
   ],
   "source": [
    "plt.hist(h.view(-1).tolist(), 100);"
   ]
  },
  {
   "cell_type": "code",
   "execution_count": 52,
   "metadata": {},
   "outputs": [
    {
     "data": {
      "text/plain": [
       "[<matplotlib.lines.Line2D at 0x7facdcf0a200>]"
      ]
     },
     "execution_count": 52,
     "metadata": {},
     "output_type": "execute_result"
    },
    {
     "data": {
      "image/png": "[encoded data removed]",
      "text/plain": [
       "<Figure size 640x480 with 1 Axes>"
      ]
     },
     "metadata": {},
     "output_type": "display_data"
    }
   ],
   "source": [
    "plt.plot(inxs, np.log10(losses))\n",
    "# plt.xscale(\"log\")"
   ]
  },
  {
   "cell_type": "code",
   "execution_count": 54,
   "metadata": {},
   "outputs": [
    {
     "name": "stdout",
     "output_type": "stream",
     "text": [
      "train 2.121603488922119\n",
      "dev 2.169416904449463\n"
     ]
    }
   ],
   "source": [
    "@torch.no_grad() # disable gradient tracking\n",
    "def get_loss(data_set):\n",
    "    x, y = {\n",
    "        'train': (training_set, y_training_set),\n",
    "        'dev': (dev_set, y_dev_set),\n",
    "        'test': (test_set, y_test_set)\n",
    "    }[data_set]\n",
    "\n",
    "    emb = C[x]\n",
    "    h = torch.tanh(emb.view(emb.shape[0], -1) @ W1 + b1) # (x, hidden)\n",
    "    logits = h @ W2 + b2 # (hidden, vocab_size )\n",
    "    loss = F.cross_entropy(logits, y)\n",
    "    print(data_set, loss.item())\n",
    "\n",
    "get_loss('train')\n",
    "get_loss('dev')"
   ]
  },
  {
   "cell_type": "code",
   "execution_count": 10,
   "metadata": {},
   "outputs": [
    {
     "name": "stdout",
     "output_type": "stream",
     "text": [
      "carpahxaal\n",
      "hlrif\n",
      "jmrix\n",
      "thty\n",
      "skansskeja\n",
      "hnen\n",
      "dmeryhc\n",
      "kaqhi\n",
      "nelania\n",
      "chriiv\n",
      "kanein\n",
      "dhlm\n",
      "join\n",
      "qhinn\n",
      "sroilea\n",
      "jadbi\n",
      "wanelogiearixi\n",
      "jkaei\n",
      "iusa\n",
      "med\n"
     ]
    }
   ],
   "source": [
    "# sample from the model\n",
    "g = torch.Generator().manual_seed(2147483647 + 10)\n",
    "\n",
    "for _ in range(20):\n",
    "    \n",
    "\tout = '.' * block_size\n",
    "\twhile True:\n",
    "\t\temb = C[torch.tensor([str_to_inx[x] for x in out[-block_size:]])] # (1,block_size,d)\n",
    "\t\th = torch.tanh(emb.view(1, -1) @ W1 + b1)\n",
    "\t\tlogits = h @ W2 + b2\n",
    "\t\tprobs = F.softmax(logits, dim=1)\n",
    "\t\tinx = torch.multinomial(probs, num_samples=1, generator=g).item()\n",
    "\t\tout = out + inx_to_str[inx]\n",
    "\t\tif inx == 0:\n",
    "\t\t\tbreak\n",
    "    \n",
    "\tprint(out.replace('.', ''))"
   ]
  }
 ],
 "metadata": {
  "kernelspec": {
   "display_name": "Python 3",
   "language": "python",
   "name": "python3"
  },
  "language_info": {
   "codemirror_mode": {
    "name": "ipython",
    "version": 3
   },
   "file_extension": ".py",
   "mimetype": "text/x-python",
   "name": "python",
   "nbconvert_exporter": "python",
   "pygments_lexer": "ipython3",
   "version": "3.10.6"
  },
  "orig_nbformat": 4,
  "vscode": {
   "interpreter": {
    "hash": "31f2aee4e71d21fbe5cf8b01ff0e069b9275f58929596ceb00d14d90e3e16cd6"
   }
  }
 },
 "nbformat": 4,
 "nbformat_minor": 2
}
