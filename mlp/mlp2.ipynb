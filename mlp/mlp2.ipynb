{
 "cells": [
  {
   "cell_type": "code",
   "execution_count": 40,
   "metadata": {},
   "outputs": [],
   "source": [
    "import torch\n",
    "import torch.nn.functional as F\n",
    "import matplotlib.pyplot as plt # for making figures\n",
    "import random \n",
    "import numpy as np\n",
    "import math\n",
    "%matplotlib inline"
   ]
  },
  {
   "cell_type": "code",
   "execution_count": 41,
   "metadata": {},
   "outputs": [
    {
     "data": {
      "text/plain": [
       "['emma', 'olivia', 'ava', 'isabella', 'sophia', 'charlotte', 'mia', 'amelia']"
      ]
     },
     "execution_count": 41,
     "metadata": {},
     "output_type": "execute_result"
    }
   ],
   "source": [
    "# read in all the words\n",
    "words = open('names.txt', 'r').read().splitlines()\n",
    "words[:8]"
   ]
  },
  {
   "cell_type": "code",
   "execution_count": 42,
   "metadata": {},
   "outputs": [
    {
     "data": {
      "text/plain": [
       "{1: 'a',\n",
       " 2: 'b',\n",
       " 3: 'c',\n",
       " 4: 'd',\n",
       " 5: 'e',\n",
       " 6: 'f',\n",
       " 7: 'g',\n",
       " 8: 'h',\n",
       " 9: 'i',\n",
       " 10: 'j',\n",
       " 11: 'k',\n",
       " 12: 'l',\n",
       " 13: 'm',\n",
       " 14: 'n',\n",
       " 15: 'o',\n",
       " 16: 'p',\n",
       " 17: 'q',\n",
       " 18: 'r',\n",
       " 19: 's',\n",
       " 20: 't',\n",
       " 21: 'u',\n",
       " 22: 'v',\n",
       " 23: 'w',\n",
       " 24: 'x',\n",
       " 25: 'y',\n",
       " 26: 'z',\n",
       " 0: '.'}"
      ]
     },
     "execution_count": 42,
     "metadata": {},
     "output_type": "execute_result"
    }
   ],
   "source": [
    "chars = sorted(list(set(''.join(words))))\n",
    "str_to_inx = {str:inx for inx, str in enumerate(chars, start=1)}\n",
    "str_to_inx['.'] = 0\n",
    "inx_to_str = {str:inx for inx, str in str_to_inx.items()}\n",
    "vocab_size = len(inx_to_str)\n",
    "inx_to_str"
   ]
  },
  {
   "cell_type": "code",
   "execution_count": 43,
   "metadata": {},
   "outputs": [
    {
     "data": {
      "text/plain": [
       "tensor([[ 0,  0,  0],\n",
       "        [ 0,  0, 20],\n",
       "        [ 0, 20,  9],\n",
       "        ...,\n",
       "        [ 1, 25, 12],\n",
       "        [25, 12,  5],\n",
       "        [12,  5, 14]])"
      ]
     },
     "execution_count": 43,
     "metadata": {},
     "output_type": "execute_result"
    }
   ],
   "source": [
    "# build the dataset\n",
    "random.shuffle(words)\n",
    "block_size = 3 # context length: how many characters do we take to predict the next one?\n",
    "X, Y = [], []\n",
    "for word in words:\n",
    "    word = block_size * '.' + word + '.'\n",
    "    end_inx = block_size\n",
    "    for start_inx, char in enumerate(word[block_size:]):\n",
    "        X.append([str_to_inx[ch] for ch in word[start_inx:end_inx]])\n",
    "        Y.append(str_to_inx[char])\n",
    "        end_inx += 1\n",
    "\n",
    "\n",
    "X, Y = torch.tensor(X), torch.tensor(Y)\n",
    "X"
   ]
  },
  {
   "cell_type": "code",
   "execution_count": 44,
   "metadata": {},
   "outputs": [],
   "source": [
    "# data set splits\n",
    "train_range = math.ceil(len(X) * 0.8)\n",
    "dev_range = (len(X) - train_range) // 2\n",
    "\n",
    "training_set = X[:train_range]\n",
    "dev_set = X[train_range:train_range+dev_range]\n",
    "test_set = X[train_range+dev_range:]\n",
    "\n",
    "y_training_set = Y[:train_range]\n",
    "y_dev_set = Y[train_range:train_range+dev_range]\n",
    "y_test_set = Y[train_range+dev_range:]\n",
    "\n",
    "assert training_set.nelement() + dev_set.nelement() + test_set.nelement() == X.nelement(), \"Bad split\""
   ]
  },
  {
   "attachments": {},
   "cell_type": "markdown",
   "metadata": {},
   "source": [
    "Why *0.01, etc.? Weights are deviating from 0 too much (i.e they're very wrong) at the initialization and it unnecessarily increases the loss at the beginning of the training. When they are too diverse tanh produces values very close to -1 or 1 which is bad for the gradient flow (see micrograd tanh implementation; gradient doesn't flow because it's in the flattened region). Init weight should be very close to 0 but not 0"
   ]
  },
  {
   "cell_type": "code",
   "execution_count": 45,
   "metadata": {},
   "outputs": [
    {
     "data": {
      "text/plain": [
       "12097"
      ]
     },
     "execution_count": 45,
     "metadata": {},
     "output_type": "execute_result"
    }
   ],
   "source": [
    "n_embd = 10 # the dimensionality of the character embedding vectors\n",
    "n_hidden = 200 # the number of neurons in the hidden layer of the MLP\n",
    "\n",
    "g = torch.Generator().manual_seed(2147483647) \n",
    "C = torch.randn((vocab_size, n_embd), generator=g)\n",
    "W1 = torch.randn((block_size*n_embd, n_hidden), generator=g) * (5/3)*(block_size*n_embd)**0.5 #Kaiming init\n",
    "#b1 = torch.randn(n_hidden, generator=g)\n",
    "W2 = torch.randn((n_hidden, vocab_size), generator=g) * 0.01 \n",
    "b2 = torch.randn(vocab_size, generator=g) * 0\n",
    "\n",
    "# BatchNorm parameters\n",
    "batch_norm_gain = torch.ones((1, n_hidden))  # shift\n",
    "batch_norm_bias = torch.zeros((1, n_hidden)) # property\n",
    "batch_mean_running = torch.zeros((1, n_hidden))\n",
    "batch_std_running = torch.ones((1, n_hidden))\n",
    "\n",
    "parameters = [C, W1, W2, b2, batch_norm_gain, batch_norm_bias]\n",
    "for p in parameters:\n",
    "    p.requires_grad = True\n",
    "sum(p.nelement() for p in parameters) # number of parameters in total"
   ]
  },
  {
   "cell_type": "code",
   "execution_count": 70,
   "metadata": {},
   "outputs": [
    {
     "name": "stdout",
     "output_type": "stream",
     "text": [
      "      0/ 100000: 2.4717\n",
      "   1000/ 100000: 2.1026\n",
      "   2000/ 100000: 2.3364\n",
      "   3000/ 100000: 2.4489\n",
      "   4000/ 100000: 2.0868\n",
      "   5000/ 100000: 2.5001\n",
      "   6000/ 100000: 2.3688\n",
      "   7000/ 100000: 2.5607\n",
      "   8000/ 100000: 2.0939\n",
      "   9000/ 100000: 2.4780\n",
      "  10000/ 100000: 2.1404\n",
      "  11000/ 100000: 2.1055\n",
      "  12000/ 100000: 2.3056\n",
      "  13000/ 100000: 2.2276\n",
      "  14000/ 100000: 1.9995\n",
      "  15000/ 100000: 2.6928\n",
      "  16000/ 100000: 2.2209\n",
      "  17000/ 100000: 2.0405\n",
      "  18000/ 100000: 2.1769\n",
      "  19000/ 100000: 2.1846\n",
      "  20000/ 100000: 2.2120\n",
      "  21000/ 100000: 2.0745\n",
      "  22000/ 100000: 2.3049\n",
      "  23000/ 100000: 2.5951\n",
      "  24000/ 100000: 2.5303\n",
      "  25000/ 100000: 2.6730\n",
      "  26000/ 100000: 2.4126\n",
      "  27000/ 100000: 2.1472\n",
      "  28000/ 100000: 2.3460\n",
      "  29000/ 100000: 2.1826\n",
      "  30000/ 100000: 2.0227\n",
      "  31000/ 100000: 2.8046\n",
      "  32000/ 100000: 2.2194\n",
      "  33000/ 100000: 2.1179\n",
      "  34000/ 100000: 2.1639\n",
      "  35000/ 100000: 2.0730\n",
      "  36000/ 100000: 2.4407\n",
      "  37000/ 100000: 2.5644\n",
      "  38000/ 100000: 2.1026\n",
      "  39000/ 100000: 2.2013\n",
      "  40000/ 100000: 2.1594\n",
      "  41000/ 100000: 2.3977\n",
      "  42000/ 100000: 2.2338\n",
      "  43000/ 100000: 1.9936\n",
      "  44000/ 100000: 2.4714\n",
      "  45000/ 100000: 2.1711\n",
      "  46000/ 100000: 2.1883\n",
      "  47000/ 100000: 2.6197\n",
      "  48000/ 100000: 1.8218\n",
      "  49000/ 100000: 2.1318\n",
      "  50000/ 100000: 2.2937\n",
      "  51000/ 100000: 2.4731\n",
      "  52000/ 100000: 2.1347\n",
      "  53000/ 100000: 1.8752\n",
      "  54000/ 100000: 2.0417\n",
      "  55000/ 100000: 2.1945\n",
      "  56000/ 100000: 2.3905\n",
      "  57000/ 100000: 1.9845\n",
      "  58000/ 100000: 2.4280\n",
      "  59000/ 100000: 2.0030\n",
      "  60000/ 100000: 2.4780\n",
      "  61000/ 100000: 2.5099\n",
      "  62000/ 100000: 2.0465\n",
      "  63000/ 100000: 1.8788\n",
      "  64000/ 100000: 1.9690\n",
      "  65000/ 100000: 2.0669\n",
      "  66000/ 100000: 2.2717\n",
      "  67000/ 100000: 2.4238\n",
      "  68000/ 100000: 2.0826\n",
      "  69000/ 100000: 2.4691\n",
      "  70000/ 100000: 2.1732\n",
      "  71000/ 100000: 2.0301\n",
      "  72000/ 100000: 2.2706\n",
      "  73000/ 100000: 2.3858\n",
      "  74000/ 100000: 2.1704\n",
      "  75000/ 100000: 1.7620\n",
      "  76000/ 100000: 2.1556\n",
      "  77000/ 100000: 2.4458\n",
      "  78000/ 100000: 2.2438\n",
      "  79000/ 100000: 1.7246\n",
      "  80000/ 100000: 2.0639\n",
      "  81000/ 100000: 2.3346\n",
      "  82000/ 100000: 2.2392\n",
      "  83000/ 100000: 2.2872\n",
      "  84000/ 100000: 2.2127\n",
      "  85000/ 100000: 2.1747\n",
      "  86000/ 100000: 2.2927\n",
      "  87000/ 100000: 2.1180\n",
      "  88000/ 100000: 2.1188\n",
      "  89000/ 100000: 2.0964\n",
      "  90000/ 100000: 1.8786\n",
      "  91000/ 100000: 2.5151\n",
      "  92000/ 100000: 1.9465\n",
      "  93000/ 100000: 2.2018\n",
      "  94000/ 100000: 2.2472\n",
      "  95000/ 100000: 2.2102\n",
      "  96000/ 100000: 1.7426\n",
      "  97000/ 100000: 2.1301\n",
      "  98000/ 100000: 2.1429\n",
      "  99000/ 100000: 2.1350\n"
     ]
    },
    {
     "data": {
      "text/plain": [
       "2.12005615234375"
      ]
     },
     "execution_count": 70,
     "metadata": {},
     "output_type": "execute_result"
    }
   ],
   "source": [
    "# train\n",
    "inxs = []\n",
    "losses = []\n",
    "batch_size = 32\n",
    "steps = 100000\n",
    "for i in range(steps):\n",
    "    # minibatch construct\n",
    "    inx = torch.randint(0, training_set.shape[0], (batch_size,), generator=g)\n",
    "\n",
    "    # forward pass\n",
    "    emb = C[training_set[inx]] # grab only those rows from the minibatch \n",
    "    emb_conc = emb.view(-1, block_size*n_embd)\n",
    "\n",
    "    # linear layer\n",
    "    h_preact = emb_conc @ W1 #+ b1 adding b1 is wasteful - see mu and std\n",
    "\n",
    "    # BatchNorm Layer\n",
    "    batch_mean_i = h_preact.mean(dim=0, keepdim=True)\n",
    "    batch_std_i = h_preact.std(dim=0, keepdim=True)\n",
    "    h_preact = batch_norm_gain * (h_preact - batch_mean_i) / batch_std_i + batch_norm_bias\n",
    "    with torch.no_grad(): # may well be calculated after training, see below\n",
    "        batch_mean_running = 0.999 * batch_mean_running + 0.001 * batch_mean_i\n",
    "        batch_std_running = 0.999 * batch_std_running + 0.001 * batch_std_i\n",
    "        \n",
    "    # non-linearity\n",
    "    h = torch.tanh(h_preact) # hidden layer\n",
    "    logits = h @ W2 + b2\n",
    "    loss = F.cross_entropy(logits, y_training_set[inx]) \n",
    "    \n",
    "    # backward pass\n",
    "    for p in parameters:\n",
    "        p.grad = None\n",
    "    loss.backward()\n",
    "\n",
    "    # update parameters\n",
    "    l_r = 0.1 if i < 50000 else 0.01 # learning rate decay\n",
    "    for p in parameters:\n",
    "        p.data += -l_r * p.grad\n",
    "\n",
    "    #stats\n",
    "    if i % 1000 == 0: # print every once in a while\n",
    "        print(f'{i:7d}/{steps:7d}: {loss.item():.4f}')\n",
    "    losses.append(loss.item())\n",
    "    inxs.append(i)\n",
    "loss.item() # best loss 2.14"
   ]
  },
  {
   "cell_type": "code",
   "execution_count": 68,
   "metadata": {},
   "outputs": [],
   "source": [
    "with torch.no_grad():\n",
    "    emb = C[training_set]\n",
    "    h_preact = emb.view(emb.shape[0], -1) @ W1 \n",
    "    mu = h_preact.mean(dim=0, keepdim=True)\n",
    "    sigma = h_preact.std(dim=0, keepdim=True)\n",
    "\n",
    "# print(batch_mean_running)\n",
    "# mu"
   ]
  },
  {
   "cell_type": "code",
   "execution_count": 71,
   "metadata": {},
   "outputs": [
    {
     "data": {
      "text/plain": [
       "[<matplotlib.lines.Line2D at 0x7f8d356467d0>]"
      ]
     },
     "execution_count": 71,
     "metadata": {},
     "output_type": "execute_result"
    },
    {
     "data": {
      "image/png": "[encoded data removed]",
      "text/plain": [
       "<Figure size 640x480 with 1 Axes>"
      ]
     },
     "metadata": {},
     "output_type": "display_data"
    }
   ],
   "source": [
    "plt.plot(inxs, np.log10(losses))\n",
    "# plt.xscale(\"log\")"
   ]
  },
  {
   "cell_type": "code",
   "execution_count": 74,
   "metadata": {},
   "outputs": [
    {
     "name": "stdout",
     "output_type": "stream",
     "text": [
      "train 2.1651604175567627\n",
      "dev 2.2001302242279053\n"
     ]
    }
   ],
   "source": [
    "@torch.no_grad() # disable gradient tracking\n",
    "def get_loss(data_set):\n",
    "    x, y = {\n",
    "        'train': (training_set, y_training_set),\n",
    "        'dev': (dev_set, y_dev_set),\n",
    "        'test': (test_set, y_test_set)\n",
    "    }[data_set]\n",
    "\n",
    "    emb = C[x]\n",
    "    h_preact = emb.view(emb.shape[0], block_size*n_embd) @ W1 #+ b1\n",
    "    h_preact = batch_norm_gain * (h_preact - batch_mean_running) / batch_std_running + batch_norm_bias\n",
    "    h = torch.tanh(h_preact) # (x, hidden)\n",
    "    logits = h @ W2 + b2 # (hidden, vocab_size )\n",
    "    loss = F.cross_entropy(logits, y)\n",
    "    print(data_set, loss.item())\n",
    "\n",
    "get_loss('train')\n",
    "get_loss('dev')"
   ]
  },
  {
   "cell_type": "code",
   "execution_count": 80,
   "metadata": {},
   "outputs": [
    {
     "name": "stdout",
     "output_type": "stream",
     "text": [
      "curlangquvyllvlubinlliglynck\n",
      "lunsahnenttubefriggangrighliz\n",
      "ronzertzevigh\n",
      "lungtyts\n",
      "lucn\n",
      "lucqswnnzs\n",
      "livebenvith\n",
      "rontri\n",
      "diarmxlawl\n",
      "lucinrllerdhodubbygingflyrsidshuwsckingthsykanmexwriggujtobgnrrixsinck\n",
      "kaisannsimmndissilswazornnd\n",
      "lunzleyto\n",
      "lucxmndroubsrbynn\n",
      "ndil\n",
      "luxith\n",
      "brbynz\n",
      "dabrctic\n",
      "qwilmnikenzirlnnorkndle\n",
      "shfr\n",
      "furzveeffnkxwarwyndourvanjillanmez\n"
     ]
    }
   ],
   "source": [
    "# sample from the model\n",
    "g = torch.Generator().manual_seed(2147483647 + 10)\n",
    "\n",
    "for _ in range(20):\n",
    "    \n",
    "\tout = '.' * block_size\n",
    "\twhile True:\n",
    "\t\temb = C[torch.tensor([str_to_inx[x] for x in out[-block_size:]])] # (1,block_size,d)\n",
    "\t\th = torch.tanh(emb.view(1, -1) @ W1) \n",
    "\t\tlogits = h @ W2 + b2\n",
    "\t\tprobs = F.softmax(logits, dim=1)\n",
    "\t\tinx = torch.multinomial(probs, num_samples=1, generator=g).item()\n",
    "\t\tout = out + inx_to_str[inx]\n",
    "\t\tif inx == 0:\n",
    "\t\t\tbreak\n",
    "    \n",
    "\tprint(out.replace('.', ''))"
   ]
  }
 ],
 "metadata": {
  "kernelspec": {
   "display_name": "Python 3",
   "language": "python",
   "name": "python3"
  },
  "language_info": {
   "codemirror_mode": {
    "name": "ipython",
    "version": 3
   },
   "file_extension": ".py",
   "mimetype": "text/x-python",
   "name": "python",
   "nbconvert_exporter": "python",
   "pygments_lexer": "ipython3",
   "version": "3.10.6"
  },
  "orig_nbformat": 4,
  "vscode": {
   "interpreter": {
    "hash": "31f2aee4e71d21fbe5cf8b01ff0e069b9275f58929596ceb00d14d90e3e16cd6"
   }
  }
 },
 "nbformat": 4,
 "nbformat_minor": 2
}
