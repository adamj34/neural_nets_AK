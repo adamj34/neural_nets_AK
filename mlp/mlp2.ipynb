{
 "cells": [
  {
   "cell_type": "code",
   "execution_count": 1,
   "metadata": {},
   "outputs": [],
   "source": [
    "import torch\n",
    "import torch.nn.functional as F\n",
    "import matplotlib.pyplot as plt # for making figures\n",
    "import random \n",
    "import numpy as np\n",
    "import math\n",
    "%matplotlib inline"
   ]
  },
  {
   "cell_type": "code",
   "execution_count": 2,
   "metadata": {},
   "outputs": [
    {
     "data": {
      "text/plain": [
       "['emma', 'olivia', 'ava', 'isabella', 'sophia', 'charlotte', 'mia', 'amelia']"
      ]
     },
     "execution_count": 2,
     "metadata": {},
     "output_type": "execute_result"
    }
   ],
   "source": [
    "# read in all the words\n",
    "words = open('names.txt', 'r').read().splitlines()\n",
    "words[:8]"
   ]
  },
  {
   "cell_type": "code",
   "execution_count": 3,
   "metadata": {},
   "outputs": [
    {
     "data": {
      "text/plain": [
       "{1: 'a',\n",
       " 2: 'b',\n",
       " 3: 'c',\n",
       " 4: 'd',\n",
       " 5: 'e',\n",
       " 6: 'f',\n",
       " 7: 'g',\n",
       " 8: 'h',\n",
       " 9: 'i',\n",
       " 10: 'j',\n",
       " 11: 'k',\n",
       " 12: 'l',\n",
       " 13: 'm',\n",
       " 14: 'n',\n",
       " 15: 'o',\n",
       " 16: 'p',\n",
       " 17: 'q',\n",
       " 18: 'r',\n",
       " 19: 's',\n",
       " 20: 't',\n",
       " 21: 'u',\n",
       " 22: 'v',\n",
       " 23: 'w',\n",
       " 24: 'x',\n",
       " 25: 'y',\n",
       " 26: 'z',\n",
       " 0: '.'}"
      ]
     },
     "execution_count": 3,
     "metadata": {},
     "output_type": "execute_result"
    }
   ],
   "source": [
    "chars = sorted(list(set(''.join(words))))\n",
    "str_to_inx = {str:inx for inx, str in enumerate(chars, start=1)}\n",
    "str_to_inx['.'] = 0\n",
    "inx_to_str = {str:inx for inx, str in str_to_inx.items()}\n",
    "vocab_size = len(inx_to_str)\n",
    "inx_to_str"
   ]
  },
  {
   "cell_type": "code",
   "execution_count": 4,
   "metadata": {},
   "outputs": [
    {
     "data": {
      "text/plain": [
       "tensor([[ 0,  0,  0],\n",
       "        [ 0,  0, 13],\n",
       "        [ 0, 13,  1],\n",
       "        ...,\n",
       "        [ 5, 19, 16],\n",
       "        [19, 16, 25],\n",
       "        [16, 25, 14]])"
      ]
     },
     "execution_count": 4,
     "metadata": {},
     "output_type": "execute_result"
    }
   ],
   "source": [
    "# build the dataset\n",
    "random.shuffle(words)\n",
    "block_size = 3 # context length: how many characters do we take to predict the next one?\n",
    "X, Y = [], []\n",
    "for word in words:\n",
    "    word = block_size * '.' + word + '.'\n",
    "    end_inx = block_size\n",
    "    for start_inx, char in enumerate(word[block_size:]):\n",
    "        X.append([str_to_inx[ch] for ch in word[start_inx:end_inx]])\n",
    "        Y.append(str_to_inx[char])\n",
    "        end_inx += 1\n",
    "\n",
    "\n",
    "X, Y = torch.tensor(X), torch.tensor(Y)\n",
    "X"
   ]
  },
  {
   "cell_type": "code",
   "execution_count": 5,
   "metadata": {},
   "outputs": [],
   "source": [
    "# data set splits\n",
    "train_range = math.ceil(len(X) * 0.8)\n",
    "dev_range = (len(X) - train_range) // 2\n",
    "\n",
    "training_set = X[:train_range]\n",
    "dev_set = X[train_range:train_range+dev_range]\n",
    "test_set = X[train_range+dev_range:]\n",
    "\n",
    "y_training_set = Y[:train_range]\n",
    "y_dev_set = Y[train_range:train_range+dev_range]\n",
    "y_test_set = Y[train_range+dev_range:]\n",
    "\n",
    "assert training_set.nelement() + dev_set.nelement() + test_set.nelement() == X.nelement(), \"Bad split\""
   ]
  },
  {
   "attachments": {},
   "cell_type": "markdown",
   "metadata": {},
   "source": [
    "Why *0.01, etc.? Weights are deviating from 0 too much (i.e they're very wrong) at the initialization and it unnecessarily increases the loss at the beginning of the training. When they are too diverse tanh produces values very close to -1 or 1 which is bad for the gradient flow (see micrograd tanh implementation; gradient doesn't flow because it's in the flattened region). Init weight should be very close to 0 but not 0"
   ]
  },
  {
   "cell_type": "code",
   "execution_count": 6,
   "metadata": {},
   "outputs": [
    {
     "data": {
      "text/plain": [
       "12097"
      ]
     },
     "execution_count": 6,
     "metadata": {},
     "output_type": "execute_result"
    }
   ],
   "source": [
    "n_embd = 10 # the dimensionality of the character embedding vectors\n",
    "n_hidden = 200 # the number of neurons in the hidden layer of the MLP\n",
    "\n",
    "g = torch.Generator().manual_seed(2147483647) \n",
    "C = torch.randn((vocab_size, n_embd), generator=g)\n",
    "W1 = torch.randn((block_size*n_embd, n_hidden), generator=g) * (5/3)*(block_size*n_embd)**0.5 #Kaiming init\n",
    "#b1 = torch.randn(n_hidden, generator=g)\n",
    "W2 = torch.randn((n_hidden, vocab_size), generator=g) * 0.01 \n",
    "b2 = torch.randn(vocab_size, generator=g) * 0\n",
    "\n",
    "# BatchNorm parameters\n",
    "batch_norm_gain = torch.ones((1, n_hidden))  # shift\n",
    "batch_norm_bias = torch.zeros((1, n_hidden)) # property\n",
    "batch_mean_running = torch.zeros((1, n_hidden))\n",
    "batch_std_running = torch.ones((1, n_hidden))\n",
    "\n",
    "parameters = [C, W1, W2, b2, batch_norm_gain, batch_norm_bias]\n",
    "for p in parameters:\n",
    "    p.requires_grad = True\n",
    "sum(p.nelement() for p in parameters) # number of parameters in total"
   ]
  },
  {
   "cell_type": "code",
   "execution_count": 18,
   "metadata": {},
   "outputs": [
    {
     "name": "stdout",
     "output_type": "stream",
     "text": [
      "      0/ 100000: 2.3144\n",
      "   1000/ 100000: 2.1500\n",
      "   2000/ 100000: 2.2168\n",
      "   3000/ 100000: 2.3808\n",
      "   4000/ 100000: 2.1707\n",
      "   5000/ 100000: 2.2734\n",
      "   6000/ 100000: 2.4807\n",
      "   7000/ 100000: 2.2306\n",
      "   8000/ 100000: 2.3208\n",
      "   9000/ 100000: 2.3603\n",
      "  10000/ 100000: 2.3816\n",
      "  11000/ 100000: 2.2859\n",
      "  12000/ 100000: 2.3219\n",
      "  13000/ 100000: 2.4090\n",
      "  14000/ 100000: 2.4973\n",
      "  15000/ 100000: 2.3510\n",
      "  16000/ 100000: 2.4619\n",
      "  17000/ 100000: 2.3882\n",
      "  18000/ 100000: 2.1000\n",
      "  19000/ 100000: 2.1612\n",
      "  20000/ 100000: 2.1370\n",
      "  21000/ 100000: 2.2989\n",
      "  22000/ 100000: 2.2235\n",
      "  23000/ 100000: 1.9434\n",
      "  24000/ 100000: 2.4803\n",
      "  25000/ 100000: 2.4557\n",
      "  26000/ 100000: 2.5564\n",
      "  27000/ 100000: 2.2223\n",
      "  28000/ 100000: 2.2805\n",
      "  29000/ 100000: 2.3983\n",
      "  30000/ 100000: 2.3592\n",
      "  31000/ 100000: 1.9632\n",
      "  32000/ 100000: 2.2401\n",
      "  33000/ 100000: 2.4385\n",
      "  34000/ 100000: 2.1845\n",
      "  35000/ 100000: 2.1221\n",
      "  36000/ 100000: 2.3496\n",
      "  37000/ 100000: 2.5176\n",
      "  38000/ 100000: 2.2347\n",
      "  39000/ 100000: 2.2435\n",
      "  40000/ 100000: 2.1816\n",
      "  41000/ 100000: 2.0938\n",
      "  42000/ 100000: 2.0824\n",
      "  43000/ 100000: 2.2446\n",
      "  44000/ 100000: 2.0672\n",
      "  45000/ 100000: 2.1828\n",
      "  46000/ 100000: 2.1770\n",
      "  47000/ 100000: 2.1979\n",
      "  48000/ 100000: 2.1257\n",
      "  49000/ 100000: 2.1818\n",
      "  50000/ 100000: 2.0151\n",
      "  51000/ 100000: 1.9094\n",
      "  52000/ 100000: 2.2147\n",
      "  53000/ 100000: 2.2022\n",
      "  54000/ 100000: 2.2219\n",
      "  55000/ 100000: 2.1644\n",
      "  56000/ 100000: 2.3860\n",
      "  57000/ 100000: 1.8984\n",
      "  58000/ 100000: 2.0136\n",
      "  59000/ 100000: 2.0344\n",
      "  60000/ 100000: 2.0928\n",
      "  61000/ 100000: 2.2314\n",
      "  62000/ 100000: 2.0504\n",
      "  63000/ 100000: 2.3109\n",
      "  64000/ 100000: 2.1920\n",
      "  65000/ 100000: 2.3147\n",
      "  66000/ 100000: 2.1226\n",
      "  67000/ 100000: 2.2584\n",
      "  68000/ 100000: 2.2319\n",
      "  69000/ 100000: 2.0027\n",
      "  70000/ 100000: 2.0144\n",
      "  71000/ 100000: 2.2314\n",
      "  72000/ 100000: 2.0798\n",
      "  73000/ 100000: 2.4442\n",
      "  74000/ 100000: 2.2751\n",
      "  75000/ 100000: 2.5190\n",
      "  76000/ 100000: 2.2253\n",
      "  77000/ 100000: 2.3475\n",
      "  78000/ 100000: 2.3305\n",
      "  79000/ 100000: 2.2361\n",
      "  80000/ 100000: 2.1365\n",
      "  81000/ 100000: 2.4719\n",
      "  82000/ 100000: 1.9779\n",
      "  83000/ 100000: 2.1398\n",
      "  84000/ 100000: 2.3681\n",
      "  85000/ 100000: 2.1068\n",
      "  86000/ 100000: 2.1896\n",
      "  87000/ 100000: 2.0803\n",
      "  88000/ 100000: 2.4137\n",
      "  89000/ 100000: 2.0107\n",
      "  90000/ 100000: 2.2239\n",
      "  91000/ 100000: 2.2310\n",
      "  92000/ 100000: 2.4226\n",
      "  93000/ 100000: 2.2037\n",
      "  94000/ 100000: 1.9425\n",
      "  95000/ 100000: 2.4929\n",
      "  96000/ 100000: 2.3132\n",
      "  97000/ 100000: 2.3245\n",
      "  98000/ 100000: 2.2527\n",
      "  99000/ 100000: 2.2960\n"
     ]
    },
    {
     "data": {
      "text/plain": [
       "2.3343820571899414"
      ]
     },
     "execution_count": 18,
     "metadata": {},
     "output_type": "execute_result"
    }
   ],
   "source": [
    "# train\n",
    "inxs = []\n",
    "losses = []\n",
    "batch_size = 64\n",
    "steps = 100000\n",
    "for i in range(steps):\n",
    "    # minibatch construct\n",
    "    inx = torch.randint(0, training_set.shape[0], (batch_size,), generator=g)\n",
    "\n",
    "    # forward pass\n",
    "    emb = C[training_set[inx]] # grab only those rows from the minibatch \n",
    "    emb_conc = emb.view(-1, block_size*n_embd)\n",
    "\n",
    "    # linear layer\n",
    "    h_preact = emb_conc @ W1 #+ b1 adding b1 is wasteful - see mu and std\n",
    "\n",
    "    # BatchNorm Layer\n",
    "    batch_mean_i = h_preact.mean(dim=0, keepdim=True)\n",
    "    batch_std_i = h_preact.std(dim=0, keepdim=True)\n",
    "    h_preact = batch_norm_gain * (h_preact - batch_mean_i) / batch_std_i + batch_norm_bias\n",
    "    with torch.no_grad(): # may well be calculated after training, see below\n",
    "        batch_mean_running = 0.999 * batch_mean_running + 0.001 * batch_mean_i\n",
    "        batch_std_running = 0.999 * batch_std_running + 0.001 * batch_std_i\n",
    "        \n",
    "    # non-linearity\n",
    "    h = torch.tanh(h_preact) # hidden layer\n",
    "    logits = h @ W2 + b2\n",
    "    loss = F.cross_entropy(logits, y_training_set[inx]) \n",
    "    \n",
    "    # backward pass\n",
    "    for p in parameters:\n",
    "        p.grad = None\n",
    "    loss.backward()\n",
    "\n",
    "    # update parameters\n",
    "    l_r = 0.1 if i < 50000 else 0.01 # learning rate decay\n",
    "    for p in parameters:\n",
    "        p.data += -l_r * p.grad\n",
    "\n",
    "    #stats\n",
    "    if i % 1000 == 0: # print every once in a while\n",
    "        print(f'{i:7d}/{steps:7d}: {loss.item():.4f}')\n",
    "    losses.append(loss.item())\n",
    "    inxs.append(i)\n",
    "loss.item() # best loss 2.14"
   ]
  },
  {
   "cell_type": "code",
   "execution_count": 8,
   "metadata": {},
   "outputs": [],
   "source": [
    "with torch.no_grad():\n",
    "    emb = C[training_set]\n",
    "    h_preact = emb.view(emb.shape[0], -1) @ W1 \n",
    "    mu = h_preact.mean(dim=0, keepdim=True)\n",
    "    sigma = h_preact.std(dim=0, keepdim=True)\n",
    "\n",
    "# print(batch_mean_running)\n",
    "# mu"
   ]
  },
  {
   "cell_type": "code",
   "execution_count": 15,
   "metadata": {},
   "outputs": [
    {
     "data": {
      "text/plain": [
       "[<matplotlib.lines.Line2D at 0x7f0469aef910>]"
      ]
     },
     "execution_count": 15,
     "metadata": {},
     "output_type": "execute_result"
    },
    {
     "data": {
      "image/png": "[encoded data removed]",
      "text/plain": [
       "<Figure size 640x480 with 1 Axes>"
      ]
     },
     "metadata": {},
     "output_type": "display_data"
    }
   ],
   "source": [
    "plt.plot(inxs, np.log10(losses))\n",
    "# plt.xscale(\"log\")"
   ]
  },
  {
   "cell_type": "code",
   "execution_count": 16,
   "metadata": {},
   "outputs": [
    {
     "name": "stdout",
     "output_type": "stream",
     "text": [
      "train 2.2276742458343506\n",
      "dev 2.2323195934295654\n"
     ]
    }
   ],
   "source": [
    "@torch.no_grad() # disable gradient tracking\n",
    "def get_loss(data_set):\n",
    "    x, y = {\n",
    "        'train': (training_set, y_training_set),\n",
    "        'dev': (dev_set, y_dev_set),\n",
    "        'test': (test_set, y_test_set)\n",
    "    }[data_set]\n",
    "\n",
    "    emb = C[x]\n",
    "    h_preact = emb.view(emb.shape[0], block_size*n_embd) @ W1 #+ b1\n",
    "    h_preact = batch_norm_gain * (h_preact - batch_mean_running) / batch_std_running + batch_norm_bias\n",
    "    h = torch.tanh(h_preact) # (x, hidden)\n",
    "    logits = h @ W2 + b2 # (hidden, vocab_size )\n",
    "    loss = F.cross_entropy(logits, y)\n",
    "    print(data_set, loss.item())\n",
    "\n",
    "get_loss('train')\n",
    "get_loss('dev')"
   ]
  },
  {
   "cell_type": "code",
   "execution_count": 11,
   "metadata": {},
   "outputs": [
    {
     "name": "stdout",
     "output_type": "stream",
     "text": [
      "chaddixlanghqvigh\n",
      "mlix\n",
      "tylyn\n",
      "ruhsancsrahxthferdry\n",
      "ttirequx\n",
      "rumdrixceriar\n",
      "brlex\n",
      "bryxthporg\n",
      "quxdulynlex\n",
      "dyvindi\n",
      "ruberrxtthryxi\n",
      "dudgryslsxttefgygriq\n",
      "gtysleyah\n",
      "duldashivlynksya\n",
      "dubghxxzuky\n",
      "lle\n",
      "rusliggrnyel\n",
      "stdfreggrosssusliyah\n",
      "badgrosklynnrxe\n",
      "sxorgelyn\n"
     ]
    }
   ],
   "source": [
    "# sample from the model\n",
    "g = torch.Generator().manual_seed(2147483647 + 10)\n",
    "\n",
    "for _ in range(20):\n",
    "    \n",
    "\tout = '.' * block_size\n",
    "\twhile True:\n",
    "\t\temb = C[torch.tensor([str_to_inx[x] for x in out[-block_size:]])] # (1,block_size,d)\n",
    "\t\th = torch.tanh(emb.view(1, -1) @ W1) \n",
    "\t\tlogits = h @ W2 + b2\n",
    "\t\tprobs = F.softmax(logits, dim=1)\n",
    "\t\tinx = torch.multinomial(probs, num_samples=1, generator=g).item()\n",
    "\t\tout = out + inx_to_str[inx]\n",
    "\t\tif inx == 0:\n",
    "\t\t\tbreak\n",
    "    \n",
    "\tprint(out.replace('.', ''))"
   ]
  }
 ],
 "metadata": {
  "kernelspec": {
   "display_name": "Python 3",
   "language": "python",
   "name": "python3"
  },
  "language_info": {
   "codemirror_mode": {
    "name": "ipython",
    "version": 3
   },
   "file_extension": ".py",
   "mimetype": "text/x-python",
   "name": "python",
   "nbconvert_exporter": "python",
   "pygments_lexer": "ipython3",
   "version": "3.10.6"
  },
  "orig_nbformat": 4,
  "vscode": {
   "interpreter": {
    "hash": "31f2aee4e71d21fbe5cf8b01ff0e069b9275f58929596ceb00d14d90e3e16cd6"
   }
  }
 },
 "nbformat": 4,
 "nbformat_minor": 2
}
