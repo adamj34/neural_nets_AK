{
 "cells": [
  {
   "cell_type": "code",
   "execution_count": 2,
   "metadata": {},
   "outputs": [],
   "source": [
    "import torch\n",
    "import torch.nn.functional as F\n",
    "import numpy as np\n",
    "import matplotlib.pyplot as plt\n",
    "import random\n",
    "import math"
   ]
  },
  {
   "cell_type": "code",
   "execution_count": 3,
   "metadata": {},
   "outputs": [],
   "source": [
    "words = open('names.txt', 'r').read().splitlines()"
   ]
  },
  {
   "cell_type": "code",
   "execution_count": 4,
   "metadata": {},
   "outputs": [
    {
     "data": {
      "text/plain": [
       "{1: 'a',\n",
       " 2: 'b',\n",
       " 3: 'c',\n",
       " 4: 'd',\n",
       " 5: 'e',\n",
       " 6: 'f',\n",
       " 7: 'g',\n",
       " 8: 'h',\n",
       " 9: 'i',\n",
       " 10: 'j',\n",
       " 11: 'k',\n",
       " 12: 'l',\n",
       " 13: 'm',\n",
       " 14: 'n',\n",
       " 15: 'o',\n",
       " 16: 'p',\n",
       " 17: 'q',\n",
       " 18: 'r',\n",
       " 19: 's',\n",
       " 20: 't',\n",
       " 21: 'u',\n",
       " 22: 'v',\n",
       " 23: 'w',\n",
       " 24: 'x',\n",
       " 25: 'y',\n",
       " 26: 'z',\n",
       " 0: '.'}"
      ]
     },
     "execution_count": 4,
     "metadata": {},
     "output_type": "execute_result"
    }
   ],
   "source": [
    "chars = sorted(list(set(''.join(words))))\n",
    "str_to_inx = {str:inx for inx, str in enumerate(chars, start=1)}\n",
    "str_to_inx['.'] = 0\n",
    "inx_to_str = {str:inx for inx, str in str_to_inx.items()}\n",
    "inx_to_str"
   ]
  },
  {
   "cell_type": "code",
   "execution_count": 5,
   "metadata": {},
   "outputs": [
    {
     "data": {
      "text/plain": [
       "tensor([[ 0,  0,  0],\n",
       "        [ 0,  0,  2],\n",
       "        [ 0,  2, 18],\n",
       "        ...,\n",
       "        [25,  1, 14],\n",
       "        [ 1, 14, 14],\n",
       "        [14, 14,  1]])"
      ]
     },
     "execution_count": 5,
     "metadata": {},
     "output_type": "execute_result"
    }
   ],
   "source": [
    "# build the dataset\n",
    "random.shuffle(words)\n",
    "block_size = 3 # context length: how many characters do we take to predict the next one?\n",
    "X, Y = [], []\n",
    "for word in words:\n",
    "    word = block_size * '.' + word + '.'\n",
    "    # for ch1, ch2, ch3, ch4 in zip(word, word[1:], word[2:], word[3:]):\n",
    "    #     # print(''.join([ch1, ch2, ch3]), '=>', ch4)\n",
    "    #     X.append([str_to_inx[ch] for ch in [ch1, ch2, ch3]])\n",
    "    #     Y.append(str_to_inx[ch4])\n",
    "    end_inx = block_size\n",
    "    for start_inx, char in enumerate(word[block_size:]):\n",
    "        X.append([str_to_inx[ch] for ch in word[start_inx:end_inx]])\n",
    "        Y.append(str_to_inx[char])\n",
    "        end_inx += 1\n",
    "\n",
    "\n",
    "X, Y = torch.tensor(X), torch.tensor(Y)\n",
    "X"
   ]
  },
  {
   "cell_type": "code",
   "execution_count": 6,
   "metadata": {},
   "outputs": [],
   "source": [
    "# data set splits\n",
    "train_range = math.ceil(len(X) * 0.8)\n",
    "dev_range = (len(X) - train_range) // 2\n",
    "\n",
    "training_set = X[:train_range]\n",
    "dev_set = X[train_range:train_range+dev_range]\n",
    "test_set = X[train_range+dev_range:]\n",
    "\n",
    "y_training_set = Y[:train_range]\n",
    "y_dev_set = Y[train_range:train_range+dev_range]\n",
    "y_test_set = Y[train_range+dev_range:]\n",
    "\n",
    "assert training_set.nelement() + dev_set.nelement() + test_set.nelement() == X.nelement(), \"Bad split\""
   ]
  },
  {
   "cell_type": "code",
   "execution_count": 88,
   "metadata": {},
   "outputs": [],
   "source": [
    "g = torch.Generator().manual_seed(2147483647) # for reproducibility\n",
    "C = torch.randn((27, 30), generator=g, requires_grad=True)\n",
    "W1 = torch.randn((90, 300), generator=g, requires_grad=True)\n",
    "b1 = torch.randn(300, generator=g, requires_grad=True)\n",
    "W2 = torch.randn((300, 27), generator=g, requires_grad=True)\n",
    "b2 = torch.randn(27, generator=g, requires_grad=True)\n",
    "parameters = [C, W1, b1, W2, b2]"
   ]
  },
  {
   "cell_type": "code",
   "execution_count": 8,
   "metadata": {},
   "outputs": [
    {
     "data": {
      "text/plain": [
       "36237"
      ]
     },
     "execution_count": 8,
     "metadata": {},
     "output_type": "execute_result"
    }
   ],
   "source": [
    "sum(p.nelement() for p in parameters) # number of parameters in total"
   ]
  },
  {
   "cell_type": "code",
   "execution_count": 9,
   "metadata": {},
   "outputs": [
    {
     "data": {
      "text/plain": [
       "tensor([0.0010, 0.0010, 0.0010,  ..., 0.9986, 0.9993, 1.0000])"
      ]
     },
     "execution_count": 9,
     "metadata": {},
     "output_type": "execute_result"
    }
   ],
   "source": [
    "# find the best learning rate in [0.001, 1] interval\n",
    "learning_rates_exponent = torch.linspace(start=-3, end=0, steps=10000) # 10**(-3) = 0.001, 10**0 = 1\n",
    "learning_rates = 10**learning_rates_exponent # exponential step\n",
    "learning_rates"
   ]
  },
  {
   "attachments": {},
   "cell_type": "markdown",
   "metadata": {},
   "source": [
    "The distributed representation is learned based on the usage of words (C's weights - flattened vector of 3 letters). This allows words(or letters) that are used in similar ways to result in having similar representations, naturally capturing their meaning. This can be contrasted with the crisp but fragile representation in a bag of words model where, unless explicitly managed, different words have different representations, regardless of how they are used."
   ]
  },
  {
   "attachments": {},
   "cell_type": "markdown",
   "metadata": {},
   "source": [
    "Why use batches? Training time. A lot of semi-accurate steps beats a small # of accurate steps(the whole training set)"
   ]
  },
  {
   "cell_type": "code",
   "execution_count": 158,
   "metadata": {},
   "outputs": [
    {
     "data": {
      "text/plain": [
       "2.159741163253784"
      ]
     },
     "execution_count": 158,
     "metadata": {},
     "output_type": "execute_result"
    }
   ],
   "source": [
    "# train\n",
    "inxs = []\n",
    "losses = []\n",
    "for i in range(300000):\n",
    "    # minibatch construct\n",
    "    inx = torch.randint(0, training_set.shape[0], (64,))\n",
    "\n",
    "    # forward pass\n",
    "    emb = C[training_set[inx]] # grab only those rows from the minibatch \n",
    "    h = torch.tanh(emb.view(-1, 90) @ W1 + b1)\n",
    "    logits = h @ W2 + b2\n",
    "    loss = F.cross_entropy(logits, y_training_set[inx]) + 0.01*(W2**2).mean()\n",
    "    # backward pass\n",
    "    for p in parameters:\n",
    "        p.grad = None\n",
    "    loss.backward()\n",
    "\n",
    "    # update parameters\n",
    "    # l_r = learning_rates[i]\n",
    "    # l_r = 0.01 if i < 50000 else 0.001\n",
    "    l_r = 0.001\n",
    "    for p in parameters:\n",
    "        p.data += -l_r * p.grad\n",
    "\n",
    "    #stats\n",
    "    inxs.append(i)\n",
    "    losses.append(loss.item())\n",
    "loss.item() # best loss 2.14"
   ]
  },
  {
   "cell_type": "code",
   "execution_count": 161,
   "metadata": {},
   "outputs": [
    {
     "data": {
      "image/png": "[encoded data removed]",
      "text/plain": [
       "<Figure size 640x480 with 1 Axes>"
      ]
     },
     "metadata": {},
     "output_type": "display_data"
    }
   ],
   "source": [
    "plt.plot(inxs, np.log10(losses))\n",
    "plt.xscale(\"log\")\n",
    "# l[np.argmin(losses)]"
   ]
  },
  {
   "cell_type": "code",
   "execution_count": 159,
   "metadata": {},
   "outputs": [
    {
     "data": {
      "text/plain": [
       "2.164926528930664"
      ]
     },
     "execution_count": 159,
     "metadata": {},
     "output_type": "execute_result"
    }
   ],
   "source": [
    "# dev set valuation\n",
    "emb = C[dev_set] # grab only those rows from the minibatch \n",
    "h = torch.tanh(emb.view(-1, 90) @ W1 + b1)\n",
    "logits = h @ W2 + b2\n",
    "loss = F.cross_entropy(logits, y_dev_set) \n",
    "loss.item()"
   ]
  },
  {
   "cell_type": "code",
   "execution_count": 160,
   "metadata": {},
   "outputs": [
    {
     "data": {
      "text/plain": [
       "2.163883686065674"
      ]
     },
     "execution_count": 160,
     "metadata": {},
     "output_type": "execute_result"
    }
   ],
   "source": [
    "# test set valuation\n",
    "emb = C[test_set] # grab only those rows from the minibatch \n",
    "h = torch.tanh(emb.view(-1, 90) @ W1 + b1)\n",
    "logits = h @ W2 + b2\n",
    "loss = F.cross_entropy(logits, y_test_set) \n",
    "loss.item()"
   ]
  },
  {
   "cell_type": "code",
   "execution_count": 83,
   "metadata": {},
   "outputs": [
    {
     "data": {
      "image/png": "[encoded data removed]",
      "text/plain": [
       "<Figure size 800x800 with 1 Axes>"
      ]
     },
     "metadata": {},
     "output_type": "display_data"
    }
   ],
   "source": [
    "# visualize dimensions 0 and 1 of the embedding matrix C for all characters\n",
    "# makes sense only if C.shape = -1x3x2\n",
    "plt.figure(figsize=(8,8))\n",
    "plt.scatter(C[:,0].data, C[:,1].data, s=200)\n",
    "for i in range(C.shape[0]):\n",
    "    plt.text(C[i,0].item(), C[i,1].item(), inx_to_str[i], ha=\"center\", va=\"center\", color='white')\n",
    "plt.grid('minor')"
   ]
  },
  {
   "cell_type": "code",
   "execution_count": 162,
   "metadata": {},
   "outputs": [
    {
     "name": "stdout",
     "output_type": "stream",
     "text": [
      "carman\n",
      "amille\n",
      "khi\n",
      "mri\n",
      "reety\n",
      "skaasha\n",
      "jazonel\n",
      "delynn\n",
      "jareei\n",
      "nellaiah\n",
      "maihvik\n",
      "leigh\n",
      "ham\n",
      "join\n",
      "quinn\n",
      "suli\n",
      "walianni\n",
      "wanelo\n",
      "dearyxi\n",
      "jaxen\n"
     ]
    }
   ],
   "source": [
    "# sample from the model\n",
    "g = torch.Generator().manual_seed(2147483647 + 10)\n",
    "\n",
    "for _ in range(20):\n",
    "    \n",
    "\tout = '.' * block_size\n",
    "\twhile True:\n",
    "\t\temb = C[torch.tensor([str_to_inx[x] for x in out[-block_size:]])] # (1,block_size,d)\n",
    "\t\th = torch.tanh(emb.view(1, -1) @ W1 + b1)\n",
    "\t\tlogits = h @ W2 + b2\n",
    "\t\tprobs = F.softmax(logits, dim=1)\n",
    "\t\tinx = torch.multinomial(probs, num_samples=1, generator=g).item()\n",
    "\t\tout = out + inx_to_str[inx]\n",
    "\t\tif inx == 0:\n",
    "\t\t\tbreak\n",
    "    \n",
    "\tprint(out.replace('.', ''))"
   ]
  }
 ],
 "metadata": {
  "kernelspec": {
   "display_name": "Python 3",
   "language": "python",
   "name": "python3"
  },
  "language_info": {
   "codemirror_mode": {
    "name": "ipython",
    "version": 3
   },
   "file_extension": ".py",
   "mimetype": "text/x-python",
   "name": "python",
   "nbconvert_exporter": "python",
   "pygments_lexer": "ipython3",
   "version": "3.10.6"
  },
  "orig_nbformat": 4,
  "vscode": {
   "interpreter": {
    "hash": "31f2aee4e71d21fbe5cf8b01ff0e069b9275f58929596ceb00d14d90e3e16cd6"
   }
  }
 },
 "nbformat": 4,
 "nbformat_minor": 2
}
