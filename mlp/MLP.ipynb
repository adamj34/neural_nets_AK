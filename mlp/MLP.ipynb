{
 "cells": [
  {
   "cell_type": "code",
   "execution_count": 2,
   "metadata": {},
   "outputs": [],
   "source": [
    "import torch\n",
    "import torch.nn.functional as F\n",
    "from torch import nn\n",
    "import matplotlib.pyplot as plt \n",
    "import random \n",
    "import math\n",
    "import numpy as np"
   ]
  },
  {
   "cell_type": "code",
   "execution_count": 3,
   "metadata": {},
   "outputs": [],
   "source": [
    "# read in all the words\n",
    "words = open('names.txt', 'r').read().splitlines()"
   ]
  },
  {
   "cell_type": "code",
   "execution_count": 4,
   "metadata": {},
   "outputs": [],
   "source": [
    "chars = sorted(list(set(''.join(words))))\n",
    "str_to_inx = {str:inx for inx, str in enumerate(chars, start=1)}\n",
    "str_to_inx['.'] = 0\n",
    "inx_to_str = {str:inx for inx, str in str_to_inx.items()}\n",
    "vocab_size = len(inx_to_str)"
   ]
  },
  {
   "cell_type": "code",
   "execution_count": 5,
   "metadata": {},
   "outputs": [
    {
     "data": {
      "text/plain": [
       "(torch.Size([228146, 4]), torch.Size([228146]))"
      ]
     },
     "execution_count": 5,
     "metadata": {},
     "output_type": "execute_result"
    }
   ],
   "source": [
    "# build the dataset\n",
    "random.shuffle(words)\n",
    "block_size = 4 # context length: how many characters do we take to predict the next one?\n",
    "X, Y = [], []\n",
    "for word in words:\n",
    "    word = block_size * '.' + word + '.'\n",
    "    end_inx = block_size\n",
    "    for start_inx, char in enumerate(word[block_size:]):\n",
    "        X.append([str_to_inx[ch] for ch in word[start_inx:end_inx]])\n",
    "        Y.append(str_to_inx[char])\n",
    "        end_inx += 1\n",
    "\n",
    "X, Y = torch.tensor(X), torch.tensor(Y)\n",
    "X.shape, Y.shape"
   ]
  },
  {
   "cell_type": "code",
   "execution_count": 6,
   "metadata": {},
   "outputs": [],
   "source": [
    "# data set splits 80%, 10%, 10%\n",
    "train_range = math.ceil(len(X) * 0.8)\n",
    "dev_range = (len(X) - train_range) // 2\n",
    "\n",
    "training_set = X[:train_range]\n",
    "dev_set = X[train_range:train_range+dev_range]\n",
    "test_set = X[train_range+dev_range:]\n",
    "\n",
    "y_training_set = Y[:train_range]\n",
    "y_dev_set = Y[train_range:train_range+dev_range]\n",
    "y_test_set = Y[train_range+dev_range:]\n",
    "\n",
    "assert training_set.nelement() + dev_set.nelement() + test_set.nelement() == X.nelement(), \"Bad split\""
   ]
  },
  {
   "cell_type": "code",
   "execution_count": 7,
   "metadata": {},
   "outputs": [],
   "source": [
    "device = \"cpu\""
   ]
  },
  {
   "cell_type": "code",
   "execution_count": 8,
   "metadata": {},
   "outputs": [],
   "source": [
    "n_embd = 10 # dim of the character embedding vector\n",
    "n_hidden = 100 # the # of neurons in the hidden layer\n",
    "g = torch.Generator().manual_seed(2147483647)\n",
    "\n",
    "class MLP(nn.Module):\n",
    "    def __init__(self, vocab_size, n_embd):\n",
    "        super().__init__()\n",
    "        self.linear_tanh_stack = nn.Sequential(\n",
    "            nn.Embedding(vocab_size, n_embd), nn.Flatten(),\n",
    "            nn.Linear(n_embd * block_size, n_hidden, bias=False), nn.BatchNorm1d(n_hidden), nn.Tanh(),\n",
    "            nn.Linear(n_hidden, n_hidden, bias=False), nn.BatchNorm1d(n_hidden), nn.Tanh(),\n",
    "            nn.Linear(n_hidden, n_hidden, bias=False), nn.BatchNorm1d(n_hidden), nn.Tanh(),\n",
    "            nn.Linear(n_hidden, n_hidden, bias=False), nn.BatchNorm1d(n_hidden), nn.Tanh(),\n",
    "            nn.Linear(n_hidden, vocab_size)\n",
    "        )\n",
    "\n",
    "    def forward(self, x):\n",
    "        logits = self.linear_tanh_stack(x)\n",
    "        return logits"
   ]
  },
  {
   "cell_type": "code",
   "execution_count": 9,
   "metadata": {},
   "outputs": [
    {
     "name": "stdout",
     "output_type": "stream",
     "text": [
      "MLP(\n",
      "  (linear_tanh_stack): Sequential(\n",
      "    (0): Embedding(27, 10)\n",
      "    (1): Flatten(start_dim=1, end_dim=-1)\n",
      "    (2): Linear(in_features=40, out_features=100, bias=False)\n",
      "    (3): BatchNorm1d(100, eps=1e-05, momentum=0.1, affine=True, track_running_stats=True)\n",
      "    (4): Tanh()\n",
      "    (5): Linear(in_features=100, out_features=100, bias=False)\n",
      "    (6): BatchNorm1d(100, eps=1e-05, momentum=0.1, affine=True, track_running_stats=True)\n",
      "    (7): Tanh()\n",
      "    (8): Linear(in_features=100, out_features=100, bias=False)\n",
      "    (9): BatchNorm1d(100, eps=1e-05, momentum=0.1, affine=True, track_running_stats=True)\n",
      "    (10): Tanh()\n",
      "    (11): Linear(in_features=100, out_features=100, bias=False)\n",
      "    (12): BatchNorm1d(100, eps=1e-05, momentum=0.1, affine=True, track_running_stats=True)\n",
      "    (13): Tanh()\n",
      "    (14): Linear(in_features=100, out_features=27, bias=True)\n",
      "  )\n",
      ")\n"
     ]
    }
   ],
   "source": [
    "model = MLP(vocab_size=vocab_size, n_embd=n_embd).to(device)\n",
    "print(model)"
   ]
  },
  {
   "cell_type": "code",
   "execution_count": 10,
   "metadata": {},
   "outputs": [],
   "source": [
    "losses, inxs = [], []"
   ]
  },
  {
   "cell_type": "code",
   "execution_count": 11,
   "metadata": {},
   "outputs": [
    {
     "name": "stdout",
     "output_type": "stream",
     "text": [
      "      0/ 100000: 3.3559\n",
      "   1000/ 100000: 2.3309\n",
      "   2000/ 100000: 2.3195\n",
      "   3000/ 100000: 2.4334\n"
     ]
    },
    {
     "ename": "KeyboardInterrupt",
     "evalue": "",
     "output_type": "error",
     "traceback": [
      "\u001b[0;31m---------------------------------------------------------------------------\u001b[0m",
      "\u001b[0;31mKeyboardInterrupt\u001b[0m                         Traceback (most recent call last)",
      "Cell \u001b[0;32mIn[11], line 10\u001b[0m\n\u001b[1;32m      7\u001b[0m inx \u001b[39m=\u001b[39m torch\u001b[39m.\u001b[39mrandint(\u001b[39m0\u001b[39m, training_set\u001b[39m.\u001b[39mshape[\u001b[39m0\u001b[39m], (\u001b[39m32\u001b[39m,), generator\u001b[39m=\u001b[39mg)\n\u001b[1;32m      8\u001b[0m emb \u001b[39m=\u001b[39m training_set[inx] \u001b[39m# grab only those rows from the minibatch \u001b[39;00m\n\u001b[0;32m---> 10\u001b[0m optimizer\u001b[39m.\u001b[39;49mzero_grad()\n\u001b[1;32m     12\u001b[0m \u001b[39m# forward pass\u001b[39;00m\n\u001b[1;32m     13\u001b[0m preds \u001b[39m=\u001b[39m model(emb)\n",
      "File \u001b[0;32m~/.local/lib/python3.10/site-packages/torch/optim/optimizer.py:267\u001b[0m, in \u001b[0;36mOptimizer.zero_grad\u001b[0;34m(self, set_to_none)\u001b[0m\n\u001b[1;32m    265\u001b[0m \u001b[39mif\u001b[39;00m foreach:\n\u001b[1;32m    266\u001b[0m     per_device_and_dtype_grads \u001b[39m=\u001b[39m defaultdict(\u001b[39mlambda\u001b[39;00m: defaultdict(\u001b[39mlist\u001b[39m))\n\u001b[0;32m--> 267\u001b[0m \u001b[39mwith\u001b[39;00m torch\u001b[39m.\u001b[39mautograd\u001b[39m.\u001b[39mprofiler\u001b[39m.\u001b[39mrecord_function(\u001b[39mself\u001b[39m\u001b[39m.\u001b[39m_zero_grad_profile_name):\n\u001b[1;32m    268\u001b[0m     \u001b[39mfor\u001b[39;00m group \u001b[39min\u001b[39;00m \u001b[39mself\u001b[39m\u001b[39m.\u001b[39mparam_groups:\n\u001b[1;32m    269\u001b[0m         \u001b[39mfor\u001b[39;00m p \u001b[39min\u001b[39;00m group[\u001b[39m'\u001b[39m\u001b[39mparams\u001b[39m\u001b[39m'\u001b[39m]:\n",
      "File \u001b[0;32m~/.local/lib/python3.10/site-packages/torch/autograd/profiler.py:488\u001b[0m, in \u001b[0;36mrecord_function.__enter__\u001b[0;34m(self)\u001b[0m\n\u001b[1;32m    487\u001b[0m \u001b[39mdef\u001b[39;00m \u001b[39m__enter__\u001b[39m(\u001b[39mself\u001b[39m):\n\u001b[0;32m--> 488\u001b[0m     \u001b[39mself\u001b[39m\u001b[39m.\u001b[39mhandle \u001b[39m=\u001b[39m torch\u001b[39m.\u001b[39;49mops\u001b[39m.\u001b[39;49mprofiler\u001b[39m.\u001b[39;49m_record_function_enter(\u001b[39mself\u001b[39;49m\u001b[39m.\u001b[39;49mname, \u001b[39mself\u001b[39;49m\u001b[39m.\u001b[39;49margs)\n\u001b[1;32m    489\u001b[0m     \u001b[39mreturn\u001b[39;00m \u001b[39mself\u001b[39m\n",
      "File \u001b[0;32m~/.local/lib/python3.10/site-packages/torch/_ops.py:442\u001b[0m, in \u001b[0;36mOpOverloadPacket.__call__\u001b[0;34m(self, *args, **kwargs)\u001b[0m\n\u001b[1;32m    437\u001b[0m \u001b[39mdef\u001b[39;00m \u001b[39m__call__\u001b[39m(\u001b[39mself\u001b[39m, \u001b[39m*\u001b[39margs, \u001b[39m*\u001b[39m\u001b[39m*\u001b[39mkwargs):\n\u001b[1;32m    438\u001b[0m     \u001b[39m# overloading __call__ to ensure torch.ops.foo.bar()\u001b[39;00m\n\u001b[1;32m    439\u001b[0m     \u001b[39m# is still callable from JIT\u001b[39;00m\n\u001b[1;32m    440\u001b[0m     \u001b[39m# We save the function ptr as the `op` attribute on\u001b[39;00m\n\u001b[1;32m    441\u001b[0m     \u001b[39m# OpOverloadPacket to access it here.\u001b[39;00m\n\u001b[0;32m--> 442\u001b[0m     \u001b[39mreturn\u001b[39;00m \u001b[39mself\u001b[39;49m\u001b[39m.\u001b[39;49m_op(\u001b[39m*\u001b[39;49margs, \u001b[39m*\u001b[39;49m\u001b[39m*\u001b[39;49mkwargs \u001b[39mor\u001b[39;49;00m {})\n",
      "\u001b[0;31mKeyboardInterrupt\u001b[0m: "
     ]
    }
   ],
   "source": [
    "loss_function = nn.CrossEntropyLoss()\n",
    "weight_decay = 1e-3\n",
    "optimizer = torch.optim.SGD(params=model.parameters(), lr=0.01, weight_decay=weight_decay)\n",
    "steps = 100000\n",
    "model.train()\n",
    "for epoch in range(steps):\n",
    "    inx = torch.randint(0, training_set.shape[0], (32,), generator=g)\n",
    "    emb = training_set[inx] # grab only those rows from the minibatch \n",
    "\n",
    "    optimizer.zero_grad()\n",
    "\n",
    "    # forward pass\n",
    "    preds = model(emb)\n",
    "    loss = loss_function(preds, y_training_set[inx])\n",
    "\n",
    "    # backward pass\n",
    "    loss.backward()\n",
    "\n",
    "    # update the weights\n",
    "    optimizer.step()\n",
    "\n",
    "    #stats\n",
    "    if epoch % 1000 == 0: # print every once in a while\n",
    "        print(f'{epoch:7d}/{steps:7d}: {loss.item():.4f}')\n",
    "    losses.append(loss.item())\n",
    "    inxs.append(epoch)\n",
    "   \n",
    "loss"
   ]
  },
  {
   "cell_type": "code",
   "execution_count": null,
   "metadata": {},
   "outputs": [
    {
     "data": {
      "text/plain": [
       "[<matplotlib.lines.Line2D at 0x7fb1c554c460>]"
      ]
     },
     "execution_count": 37,
     "metadata": {},
     "output_type": "execute_result"
    },
    {
     "data": {
      "image/png": "[encoded data removed]",
      "text/plain": [
       "<Figure size 640x480 with 1 Axes>"
      ]
     },
     "metadata": {},
     "output_type": "display_data"
    }
   ],
   "source": [
    "# plot loss\n",
    "plt.plot(inxs, np.log10(losses))\n",
    "# plt.xscale(\"log\")"
   ]
  },
  {
   "cell_type": "code",
   "execution_count": null,
   "metadata": {},
   "outputs": [
    {
     "name": "stdout",
     "output_type": "stream",
     "text": [
      "train 2.102031946182251\n",
      "dev 2.13925838470459\n"
     ]
    }
   ],
   "source": [
    "model.eval()\n",
    "@torch.no_grad() # disable gradient tracking\n",
    "def get_loss(model, data_set):\n",
    "    x, y = {\n",
    "        'train': (training_set, y_training_set),\n",
    "        'dev': (dev_set, y_dev_set),\n",
    "        'test': (test_set, y_test_set)\n",
    "    }[data_set]\n",
    "\n",
    "    logits = model(x)\n",
    "    loss = F.cross_entropy(logits, y)\n",
    "    print(data_set, loss.item())\n",
    "\n",
    "get_loss(model,'train')\n",
    "get_loss(model,'dev')"
   ]
  },
  {
   "cell_type": "code",
   "execution_count": null,
   "metadata": {},
   "outputs": [
    {
     "name": "stdout",
     "output_type": "stream",
     "text": [
      "carmah\n",
      "amille\n",
      "khilmis\n",
      "reety\n",
      "salayane\n",
      "rahnel\n",
      "delsyn\n",
      "jareei\n",
      "nelmara\n",
      "chaiir\n",
      "kaleig\n",
      "dham\n",
      "pore\n",
      "quinn\n",
      "suline\n",
      "liven\n",
      "corathoniearynix\n",
      "kaellins\n",
      "bred\n",
      "edii\n"
     ]
    }
   ],
   "source": [
    "# sample from the model\n",
    "model.eval()\n",
    "@torch.no_grad()\n",
    "def sample(model):\n",
    "\tg = torch.Generator().manual_seed(2147483647 + 10)\n",
    "\tfor _ in range(20):\n",
    "\t\tout = '.' * block_size\n",
    "\t\twhile True:\n",
    "\t\t\tx = torch.tensor([str_to_inx[x] for x in out[-block_size:]])\n",
    "\t\t\tx = x.view(1, -1)\n",
    "\t\t\tlogits = model(x)\n",
    "\t\t\tprobs = F.softmax(logits, dim=1)\n",
    "\t\t\tinx = torch.multinomial(probs, num_samples=1, generator=g).item()\n",
    "\t\t\tout = out + inx_to_str[inx]\n",
    "\t\t\tif inx == 0:\n",
    "\t\t\t\tbreak\n",
    "\t\t\n",
    "\t\tprint(out.replace('.', ''))\n",
    "sample(model)"
   ]
  }
 ],
 "metadata": {
  "kernelspec": {
   "display_name": "Python 3",
   "language": "python",
   "name": "python3"
  },
  "language_info": {
   "codemirror_mode": {
    "name": "ipython",
    "version": 3
   },
   "file_extension": ".py",
   "mimetype": "text/x-python",
   "name": "python",
   "nbconvert_exporter": "python",
   "pygments_lexer": "ipython3",
   "version": "3.11.4"
  },
  "orig_nbformat": 4
 },
 "nbformat": 4,
 "nbformat_minor": 2
}
